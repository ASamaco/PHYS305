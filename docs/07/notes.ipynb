{
 "cells": [
  {
   "cell_type": "markdown",
   "id": "0",
   "metadata": {},
   "source": [
    "# Numerical and Automatic Derivatives"
   ]
  },
  {
   "cell_type": "markdown",
   "id": "1",
   "metadata": {},
   "source": [
    "Derivatives are fundamental in mathematical modeling.\n",
    "They provide essential insights into the behavior of physical systems by quantifying rates of change.\n",
    "\n",
    "In fields such as computational physics, engineering, and machine learning, the efficient and accurate computation of derivatives is crucial for simulations, optimizations, and analyses.\n",
    "Traditional analytical methods for finding derivatives may become intractable for complex or nonlinear functions commonly encountered in real-world applications.\n",
    "Consequently, alternative techniques have emerged as indispensable tools in scientific computing."
   ]
  },
  {
   "cell_type": "markdown",
   "id": "2",
   "metadata": {},
   "source": [
    "The derivative of a real-valued function $f(x)$ at a point $x = a$ is defined as the limit:\n",
    "\\begin{align}\n",
    "f'(a) = \\lim_{h \\to 0} \\frac{f(a + h) - f(a)}{h}.\n",
    "\\end{align}\n",
    "This limit, if it exists, represents the slope of the tangent line to the curve $y = f(x)$ at $x = a$. The derivative function $f'(x)$ provides the rate of change of $f$ at any point within its domain where the derivative exists."
   ]
  },
  {
   "cell_type": "markdown",
   "id": "3",
   "metadata": {},
   "source": [
    "Several fundamental rules facilitating the computation of derivatives are taught in undergraduate calculus courses.\n",
    "Among them, the most important one is the chain rule.\n",
    "It states that, for $f(x) = g(h(x))$, its derivative is given by\n",
    "\\begin{align}\n",
    "f'(x) = g'(h(x)) h'(x).\n",
    "\\end{align}\n",
    "We will show that the chain rule is extremely important in modern numerical and automatic derivatives."
   ]
  },
  {
   "cell_type": "markdown",
   "id": "4",
   "metadata": {},
   "source": [
    "Methods for computing derivatives include symbolic differentiation, numerical approximation, and automatic differentiation.\n",
    "Symbolic differentiation applies analytical rules directly to mathematical expressions, yielding exact derivative formulas.\n",
    "Numerical methods, such as finite difference techniques, approximate derivatives using discrete data points and are straightforward to implement but may suffer from truncation and round-off errors.\n",
    "Automatic differentiation bridges the gap by systematically applying the chain rule to compute exact derivatives up to machine precision without symbolic manipulation, making it efficient for complex functions and large-scale systems.\n",
    "\n",
    "Understanding the principles, advantages, and limitations of these approaches allows for the selection of the most appropriate method for a given problem.\n",
    "This lecture will introduce these techniques, providing a comprehensive overview of their theoretical foundations and practical implementations in computational contexts."
   ]
  }
 ],
 "metadata": {
  "kernelspec": {
   "display_name": "Python 3 (ipykernel)",
   "language": "python",
   "name": "python3"
  },
  "language_info": {
   "codemirror_mode": {
    "name": "ipython",
    "version": 3
   },
   "file_extension": ".py",
   "mimetype": "text/x-python",
   "name": "python",
   "nbconvert_exporter": "python",
   "pygments_lexer": "ipython3",
   "version": "3.12.6"
  }
 },
 "nbformat": 4,
 "nbformat_minor": 5
}
