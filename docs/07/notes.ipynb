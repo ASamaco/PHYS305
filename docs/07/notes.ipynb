{
 "cells": [
  {
   "cell_type": "markdown",
   "id": "0",
   "metadata": {},
   "source": [
    "# Numerical and Automatic Derivatives"
   ]
  },
  {
   "cell_type": "markdown",
   "id": "1",
   "metadata": {},
   "source": [
    "Derivatives are fundamental in mathematical modeling.\n",
    "They provide essential insights into the behavior of physical systems by quantifying rates of change.\n",
    "\n",
    "In fields such as computational physics, engineering, and machine learning, the efficient and accurate computation of derivatives is crucial for simulations, optimizations, and analyses.\n",
    "Traditional analytical methods for finding derivatives may become intractable for complex or nonlinear functions commonly encountered in real-world applications.\n",
    "Consequently, alternative techniques have emerged as indispensable tools in scientific computing."
   ]
  },
  {
   "cell_type": "markdown",
   "id": "2",
   "metadata": {},
   "source": [
    "The derivative of a real-valued function $f(x)$ at a point $x = a$ is defined as the limit:\n",
    "\\begin{align}\n",
    "f'(a) = \\lim_{h \\to 0} \\frac{f(a + h) - f(a)}{h}.\n",
    "\\end{align}\n",
    "This limit, if it exists, represents the slope of the tangent line to the curve $y = f(x)$ at $x = a$. The derivative function $f'(x)$ provides the rate of change of $f$ at any point within its domain where the derivative exists."
   ]
  },
  {
   "cell_type": "markdown",
   "id": "3",
   "metadata": {},
   "source": [
    "Several fundamental rules facilitating the computation of derivatives are taught in undergraduate calculus courses.\n",
    "Among them, the most important one is the chain rule.\n",
    "It states that, for $f(x) = g(h(x))$, its derivative is given by\n",
    "\\begin{align}\n",
    "f'(x) = g'(h(x)) h'(x).\n",
    "\\end{align}\n",
    "We will show that the chain rule is extremely important in modern numerical and automatic derivatives."
   ]
  },
  {
   "cell_type": "markdown",
   "id": "4",
   "metadata": {},
   "source": [
    "Methods for computing derivatives include symbolic differentiation, numerical approximation, and automatic differentiation.\n",
    "Symbolic differentiation applies analytical rules directly to mathematical expressions, yielding exact derivative formulas.\n",
    "Numerical methods, such as finite difference techniques, approximate derivatives using discrete data points and are straightforward to implement but may suffer from truncation and round-off errors.\n",
    "Automatic differentiation bridges the gap by systematically applying the chain rule to compute exact derivatives up to machine precision without symbolic manipulation, making it efficient for complex functions and large-scale systems.\n",
    "\n",
    "Understanding the principles, advantages, and limitations of these approaches allows for the selection of the most appropriate method for a given problem.\n",
    "This lecture will introduce these techniques, providing a comprehensive overview of their theoretical foundations and practical implementations in computational contexts."
   ]
  },
  {
   "cell_type": "markdown",
   "id": "5",
   "metadata": {},
   "source": [
    "## Symbolic Differentiation\n",
    "\n",
    "Symbolic differentiation computes the derivative of a function expressed symbolically by applying calculus rules directly to its mathematical expression.\n",
    "Unlike numerical methods that approximate derivatives at specific points, symbolic differentiation yields exact analytical expressions, making it valuable for theoretical analyses and precise computations."
   ]
  },
  {
   "cell_type": "markdown",
   "id": "6",
   "metadata": {},
   "source": [
    "### Algorithmic Approach\n",
    "\n",
    "The general algorithm for symbolic differentiation involves:\n",
    "\n",
    "1. Parsing the Expression: Represent the function as an expression tree, where each node corresponds to an operation (e.g., addition, multiplication) or operand (e.g., variable, constant).\n",
    "2. Applying Differentiation Rules: Recursively apply differentiation rules to each node in the expression tree, including the chain rule.\n",
    "3. Simplifying the Result: After applying the differentiation rules, simplify the resulting expression to make it more readable and computationally efficient."
   ]
  },
  {
   "cell_type": "markdown",
   "id": "7",
   "metadata": {},
   "source": [
    "Consider the function $f(x) = x^2 \\sin(x) + e^{2x}$.\n",
    "To compute $f'(x)$, a symbolic differentiation system would:\n",
    "1. Differentiate $x^2 \\sin(x)$ using the product rule:\n",
    "   \\begin{align}\n",
    "   \\frac{d}{dx}[x^2 \\sin(x)] = x^2 \\cos(x) + 2 x \\sin(x)\n",
    "   \\end{align}\n",
    "2. Differentiate $e^{2x}$ using the chain rule:\n",
    "   \\begin{align}\n",
    "   \\frac{d}{dx}[e^{2x}] = 2 e^{2x}\n",
    "   \\end{align}\n",
    "3. Combine the results:\n",
    "   \\begin{align}\n",
    "   f'(x) = x^2 \\cos(x) + 2 x \\sin(x) + 2 e^{2x}\n",
    "   \\end{align}"
   ]
  },
  {
   "cell_type": "markdown",
   "id": "8",
   "metadata": {},
   "source": [
    "### Symbolic Computation with SymPy\n",
    "\n",
    "`SymPy` is an open-source Python library for symbolic mathematics.\n",
    "It allows for symbolic differentiation and manipulation of mathematical expressions.\n",
    "\n",
    "Using `SymPy` to Compute $f'(x)$:"
   ]
  },
  {
   "cell_type": "code",
   "execution_count": null,
   "id": "9",
   "metadata": {},
   "outputs": [],
   "source": [
    "!pip install sympy"
   ]
  },
  {
   "cell_type": "code",
   "execution_count": null,
   "id": "10",
   "metadata": {},
   "outputs": [],
   "source": [
    "import sympy as sp\n",
    "\n",
    "x = sp.symbols('x')\n",
    "f = x**2 * sp.sin(x) + sp.exp(2 * x)\n",
    "f_prime = sp.diff(f, x)\n",
    "f_prime_simplified = sp.simplify(f_prime)"
   ]
  },
  {
   "cell_type": "code",
   "execution_count": null,
   "id": "11",
   "metadata": {},
   "outputs": [],
   "source": [
    "f_prime_simplified"
   ]
  },
  {
   "cell_type": "markdown",
   "id": "12",
   "metadata": {},
   "source": [
    "### Advantages of Symbolic Differentiation\n",
    "\n",
    "Symbolic differentiation provides exact results by producing precise analytical expressions without approximation errors.\n",
    "This exactness is crucial in theoretical work where precise solutions are necessary.\n",
    "Additionally, symbolic derivatives are valid over continuous ranges of variables, offering general applicability in analyses.\n",
    "They facilitate further analytical processes by simplifying tasks such as solving differential equations and optimizing functions, as the exact expressions can be manipulated algebraically to gain deeper insights into the behavior of the system under study."
   ]
  },
  {
   "cell_type": "markdown",
   "id": "13",
   "metadata": {},
   "source": [
    "### Limitations\n",
    "\n",
    "Symbolic differentiation has limitations that can impact its practicality.\n",
    "One challenge is the potential for expression growth of the derivative expressions as the original function's complexity increases.\n",
    "This growth can make the expressions difficult to interpret and computationally intensive to process.\n",
    "The computational complexity associated with differentiating complex functions can require substantial resources and time, especially for high-dimensional systems or functions involving intricate compositions.\n",
    "Furthermore, symbolic differentiation is not suitable for functions without explicit symbolic forms, such as those defined by experimental data, simulations, or complex numerical algorithms.\n",
    "In such cases, alternative methods like numerical differentiation or automatic differentiation are more appropriate."
   ]
  },
  {
   "cell_type": "markdown",
   "id": "14",
   "metadata": {},
   "source": [
    "### Software Tools\n",
    "\n",
    "Several software tools facilitate symbolic differentiation by automating the application of calculus rules to mathematical expressions:\n",
    "\n",
    "* [`SymPy`](https://www.sympy.org/):\n",
    "  An open-source Python library that provides capabilities for symbolic differentiation, integration, and equation solving within the Python ecosystem.\n",
    "* [`Mathematica`](https://www.wolfram.com/mathematica/):\n",
    "  A computational software developed by Wolfram Research, offering extensive symbolic computation features used widely in academia and industry.\n",
    "* [`Maple`](https://www.maplesoft.com/):\n",
    "  A software package designed for symbolic and numeric computing, providing powerful tools for mathematical analysis.\n",
    "* [`Maxima`](https://maxima.sourceforge.io/):\n",
    "  An open-source computer algebra system specializing in symbolic manipulation, accessible for users seeking free alternatives."
   ]
  }
 ],
 "metadata": {
  "kernelspec": {
   "display_name": "Python 3 (ipykernel)",
   "language": "python",
   "name": "python3"
  },
  "language_info": {
   "codemirror_mode": {
    "name": "ipython",
    "version": 3
   },
   "file_extension": ".py",
   "mimetype": "text/x-python",
   "name": "python",
   "nbconvert_exporter": "python",
   "pygments_lexer": "ipython3",
   "version": "3.12.6"
  }
 },
 "nbformat": 4,
 "nbformat_minor": 5
}
