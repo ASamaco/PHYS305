{
 "cells": [
  {
   "cell_type": "markdown",
   "id": "0",
   "metadata": {},
   "source": [
    "# Numerical Integration of Functions"
   ]
  },
  {
   "cell_type": "markdown",
   "id": "1",
   "metadata": {},
   "source": [
    "## Introduction\n",
    "\n",
    "### Importance of Integration in Physics\n",
    "\n",
    "Integration is foundational in physics, as many physical systems are described by differential equations that represent dynamic behaviors.\n",
    "For instance, Newton's second law, $f = m a = m d^2 x/d t^2$, is an ordinary differential equation (ODE) that models the acceleration of a mass under a force.\n",
    "When physical phenomena are modeled as continuous fields, we often move to partial differential equations (PDEs), such as those governing fluid dynamics, electromagnetism, and quantum fields.\n",
    "\n",
    "To predict the behavior of these systems, we frequently need to integrate these differential equations, either over time, space, or other domains.\n",
    "Analytical solutions, though ideal, are rarely feasible for real-world problems due to the complex nature of the equations and boundary conditions.\n",
    "This makes numerical integration essential for approximating solutions in computational physics, enabling us to simulate and analyze physical systems that defy closed-form solutions."
   ]
  },
  {
   "cell_type": "markdown",
   "id": "2",
   "metadata": {},
   "source": [
    "### Numerical Integration of Functions\n",
    "\n",
    "Before diving into the numerical methods for solving complex differential equations, we start with a simpler, yet essential case: the numerical evaluation of a definite integral, represented as\n",
    "\\begin{align}\n",
    "I = \\int_a^b f(x) \\, dx.\n",
    "\\end{align}\n",
    "In many ways, this task is a special case of solving an initial-value problem for an ODE.\n",
    "Specifically, computing the integral $I$ is equivalent to solving the differential equation $d y/d x = f(x)$, with a boundary condition $y(a) = 0$, and evaluating $y(b)$.\n",
    "This perspective connects integration directly to the broader framework of solving differential equations.\n",
    "\n",
    "By focusing first on the numerical integration of functions, we will see the key concept of convergence---the manner in which a numerical approximation approaches the true value as computational parameters (like step size) are refined.\n",
    "This foundation will prepare us for tackling more general ODEs and PDEs, where convergence and error control are critical for obtaining reliable solutions."
   ]
  },
  {
   "cell_type": "markdown",
   "id": "3",
   "metadata": {},
   "source": [
    "### Analytical Example\n",
    "\n",
    "Numerical integration is a key tool for solving problems without analytical solutions.\n",
    "However, to build our understanding, let's start with a function that does have a known solution.\n",
    "This approach allows us to test and validate our algorithms and implementations.\n",
    "\n",
    "Consider the function $f(x) = e^x$.\n",
    "Its indefinite integral is:\n",
    "\\begin{align}\n",
    "\\int f(x) \\, dx = e^x + C\n",
    "\\end{align}\n",
    "where $C$ is the constant of integration.\n",
    "For a definite integral over the interval $[a, b]$, we have:\n",
    "\\begin{align}\n",
    "\\int_a^b f(x) \\, dx = e^b - e^a\n",
    "\\end{align}\n",
    "\n",
    "Below, we plot this function over the interval $[0, 1]$ for visualization."
   ]
  },
  {
   "cell_type": "code",
   "execution_count": null,
   "id": "4",
   "metadata": {},
   "outputs": [],
   "source": [
    "# Importing necessary libraries\n",
    "import numpy as np\n",
    "from matplotlib import pyplot as plt\n",
    "\n",
    "# Define the function\n",
    "def f(x):\n",
    "    return np.exp(x)\n",
    "\n",
    "# Define a fine grid for plotting\n",
    "x = np.linspace(0, 1, 129)\n",
    "y = f(x)\n",
    "\n",
    "# Plotting the function\n",
    "plt.plot(x, y)\n",
    "plt.fill_between(x, y, alpha=0.33)\n",
    "plt.title(r'Plot of $f(x) = e^x$')\n",
    "plt.xlabel('x')\n",
    "plt.ylabel('f(x)')\n",
    "plt.show()"
   ]
  },
  {
   "cell_type": "markdown",
   "id": "5",
   "metadata": {},
   "source": [
    "### Riemann Sums\n",
    "\n",
    "The Riemann sum is a foundational approach to numerical integration.\n",
    "It approximates the area under a curve by summing up the values of the function at specific points across the interval, multiplied by the width of each sub-interval.\n",
    "\n",
    "A general Riemann sum for an interval $[a, b]$ is given by:\n",
    "\\begin{align}\n",
    "I \\approx S = \\sum_{i=1}^n f(x_i^*) \\Delta x_i\n",
    "\\end{align}\n",
    "where $\\Delta x_i = x_i - x_{i-1}$ is the width of each sub-interval.\n",
    "\n",
    "There are different types of Riemann sums:\n",
    "\n",
    "- **Left Riemann Sum**: $x_i^* = x_{i-1}$\n",
    "- **Right Riemann Sum**: $x_i^* = x_i$\n",
    "- **Middle Riemann Sum**: $x_i^* = \\frac{x_{i-1} + x_i}{2}$\n",
    "\n",
    "As $\\Delta x_i \\rightarrow 0$, these sums converge to the exact integral.\n",
    "\n",
    "Below, we visualize each type of Riemann sum for $f(x) = e^x$ on a coarse grid over the interval $[0, 1]$."
   ]
  },
  {
   "cell_type": "code",
   "execution_count": null,
   "id": "6",
   "metadata": {},
   "outputs": [],
   "source": [
    "# Define a coarse grid for visualization\n",
    "X = np.linspace(0, 1, 9)\n",
    "Y = f(X)\n",
    "\n",
    "# Plot Left Riemann Sum\n",
    "plt.plot(x, y)\n",
    "plt.scatter(X[:-1], Y[:-1], color='r')\n",
    "plt.fill_between(X, Y, step='post', color='r', alpha=0.33)\n",
    "plt.title('Left Riemann Sum for $f(x) = e^x$')\n",
    "plt.show()"
   ]
  },
  {
   "cell_type": "code",
   "execution_count": null,
   "id": "7",
   "metadata": {},
   "outputs": [],
   "source": [
    "# Plot Right Riemann Sum\n",
    "plt.plot(x, y)\n",
    "plt.scatter(X[1:], Y[1:], color='r')\n",
    "plt.fill_between(X, Y, step='pre', color='r', alpha=0.33)\n",
    "plt.title('Right Riemann Sum for $f(x) = e^x$')\n",
    "plt.show()"
   ]
  },
  {
   "cell_type": "code",
   "execution_count": null,
   "id": "8",
   "metadata": {},
   "outputs": [],
   "source": [
    "# Plot Middle Riemann Sum\n",
    "X_mid = 0.5 * (X[:-1] + X[1:])\n",
    "Y_mid = f(X_mid)\n",
    "\n",
    "plt.plot(x, y)\n",
    "plt.scatter(X_mid, Y_mid, color='r')\n",
    "plt.fill_between(np.concatenate([[0], X_mid, [1]]),\n",
    "                 np.concatenate([Y_mid[:1], Y_mid, Y_mid[-1:]]),\n",
    "                 step='mid', color='r', alpha=0.33)\n",
    "plt.title('Middle Riemann Sum for $f(x) = e^x$')\n",
    "plt.show()"
   ]
  }
 ],
 "metadata": {
  "kernelspec": {
   "display_name": "Python 3 (ipykernel)",
   "language": "python",
   "name": "python3"
  },
  "language_info": {
   "codemirror_mode": {
    "name": "ipython",
    "version": 3
   },
   "file_extension": ".py",
   "mimetype": "text/x-python",
   "name": "python",
   "nbconvert_exporter": "python",
   "pygments_lexer": "ipython3",
   "version": "3.12.6"
  }
 },
 "nbformat": 4,
 "nbformat_minor": 5
}
