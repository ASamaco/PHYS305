{
 "cells": [
  {
   "cell_type": "markdown",
   "id": "0",
   "metadata": {},
   "source": [
    "# Root Finding and Optimization Techniques"
   ]
  },
  {
   "cell_type": "markdown",
   "id": "1",
   "metadata": {},
   "source": [
    "Root finding and optimization are core numerical techniques that enable us to solve complex equations and optimize functions in fields where analytical solutions are often impossible.\n",
    "Root finding aims to determine values for which a function $f(x) = 0$, and finds application across engineering, physics, and finance—whether calculating stresses in materials, energy levels in quantum mechanics, or rates of return in investments.\n",
    "Optimization seeks to find the minimum or maximum of a function and is especially crucial in machine learning, where minimizing loss functions directly affects model performance.\n",
    "The two concepts intersect in gradient-based optimization, where finding the roots of a gradient helps locate stationary points and optimize complex models."
   ]
  },
  {
   "cell_type": "markdown",
   "id": "2",
   "metadata": {},
   "source": [
    "## Root Finding Techniques"
   ]
  },
  {
   "cell_type": "markdown",
   "id": "3",
   "metadata": {},
   "source": [
    "### Bisection Method\n",
    "\n",
    "The Bisection Method is a simple and robust root-finding algorithm that relies on the Intermediate Value Theorem.\n",
    "The theorem states that if $f(x)$ is a continuous function on an interval $[a, b]$ and $f(a)$ and $f(b)$ have opposite signs, then there exists at least one root in the interval $(a, b)$ where $f(x) = 0$.\n",
    "We already implemented a similar algorithm in a [previous lecture](../06/interpolate.md)."
   ]
  },
  {
   "cell_type": "code",
   "execution_count": null,
   "id": "4",
   "metadata": {},
   "outputs": [],
   "source": [
    "def bisection_index(xs, target):\n",
    "    l, h = 0, len(xs) - 1\n",
    "    while h - l > 1:\n",
    "        m = (h + l) // 2\n",
    "        if target >= xs[m]:\n",
    "            l = m\n",
    "        else:\n",
    "            h = m\n",
    "    return l # returns index of the closest value less than or equal to target"
   ]
  },
  {
   "cell_type": "markdown",
   "id": "5",
   "metadata": {},
   "source": [
    "The main difference is that we no longer have a finite set of sampling points.\n",
    "Instead, low `l` and high `h` bounds are given with a error tolerance `tol`.\n",
    "Also, the target is alway zero."
   ]
  },
  {
   "cell_type": "code",
   "execution_count": null,
   "id": "6",
   "metadata": {},
   "outputs": [],
   "source": [
    "def bisection(f, l, h, tol=1e-6):\n",
    "    if f(l) * f(h) >= 0:\n",
    "        raise ValueError(\"f(a) and f(b) must have opposite signs\")\n",
    "    while h - l > 2*tol:\n",
    "        m = (l + h) / 2\n",
    "        if f(m) == 0:\n",
    "            return m  # m is the root by definition\n",
    "        elif f(l) * f(m) > 0:\n",
    "            l = m\n",
    "        else:\n",
    "            h = m\n",
    "    return (l + m) / 2"
   ]
  },
  {
   "cell_type": "markdown",
   "id": "7",
   "metadata": {},
   "source": [
    "Example usage:"
   ]
  },
  {
   "cell_type": "code",
   "execution_count": null,
   "id": "8",
   "metadata": {},
   "outputs": [],
   "source": [
    "def f(x):\n",
    "    return x**3 - x - 2\n",
    "\n",
    "root = bisection(f, 1, 2)\n",
    "print(\"Approximate root:\")\n",
    "print(\"  x0  = \",   root )\n",
    "print(\"f(x0) = \", f(root))"
   ]
  },
  {
   "cell_type": "markdown",
   "id": "9",
   "metadata": {},
   "source": [
    "The Bisection Method is guaranteed to converge to a root if the function is continuous on $[l, h]$ and $f(l)$ and $f(h)$ have different signs.\n",
    "However, its convergence rate is relatively slow, decreasing the interval size by half with each iteration.\n",
    "This results in a linear convergence rate (of error at fixed step)."
   ]
  }
 ],
 "metadata": {
  "kernelspec": {
   "display_name": "Python 3 (ipykernel)",
   "language": "python",
   "name": "python3"
  },
  "language_info": {
   "codemirror_mode": {
    "name": "ipython",
    "version": 3
   },
   "file_extension": ".py",
   "mimetype": "text/x-python",
   "name": "python",
   "nbconvert_exporter": "python",
   "pygments_lexer": "ipython3",
   "version": "3.12.6"
  }
 },
 "nbformat": 4,
 "nbformat_minor": 5
}
