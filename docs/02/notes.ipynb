{
 "cells": [
  {
   "cell_type": "markdown",
   "id": "0",
   "metadata": {},
   "source": [
    "# Data Representation and Errors\n",
    "\n",
    "```{epigraph}\n",
    "The decimal system has been established, somewhat foolishly to be\n",
    "sure, according to man's custom, not from a natural necessity as most\n",
    "people think.\n",
    "\n",
    "-- Blaise Pascal (1623--1662)\n",
    "```"
   ]
  },
  {
   "cell_type": "markdown",
   "id": "1",
   "metadata": {
    "editable": true,
    "slideshow": {
     "slide_type": ""
    },
    "tags": []
   },
   "source": [
    "## Riddle\n",
    "\n",
    "You have 1000 bottles of wine for a birthday party.\n",
    "20 hours before the party, the winery indicates that 1 bottle is filled with poison, but they don't tell you which one.\n",
    "You have 10 lab mice to test this.\n",
    "The poison is so strong that it will kill any mouse that drinks it within 18 hours.\n",
    "Is there a way to find the poisoned bottle using the 10 mice before the party?"
   ]
  },
  {
   "cell_type": "markdown",
   "id": "2",
   "metadata": {
    "editable": true,
    "slideshow": {
     "slide_type": ""
    },
    "tags": []
   },
   "source": [
    "## Representing Numbers\n",
    "\n",
    "Efficient number representation, as illustrated in the riddle, enables us to solve seemingly impossible problems.\n",
    "The evolution of numeral systems reflects humanity's progress toward clarity and efficiency in expressing numbers.\n",
    "\n",
    "* **Unary System**:\n",
    "  The simplest system, where each number is represented by identical marks.\n",
    "  For example, 5 is written as \"|||||.\"\n",
    "  While easy to understand and requiring no skill for addition, unary becomes impractical for large values—representing 888 requires 888 marks.\n",
    "\n",
    "* **Roman Numerals**:\n",
    "  An improvement over unary, Roman numerals use symbols such as I (1), V (5), X (10), L (50), C (100), D (500), and M (1000).\n",
    "  However, representing numbers like 888 (DCCCLXXXVIII) still requires 12 symbols, making it cumbersome and inefficient for large numbers.\n",
    "\n",
    "* **Arabic Numerals**:\n",
    "  A revolutionary advancement, the Arabic numeral system uses positional notation to represent numbers compactly and efficiently.\n",
    "  For instance, 888 requires only three digits, drastically reducing complexity and enhancing clarity, making it the foundation of modern mathematics."
   ]
  },
  {
   "cell_type": "markdown",
   "id": "3",
   "metadata": {
    "editable": true,
    "slideshow": {
     "slide_type": ""
    },
    "tags": []
   },
   "source": [
    "### Positional Notation Systems\n",
    "\n",
    "The Arabic numeral system is an example of a **positional notation system**, where the value of a digit is determined by both the digit itself and its position within the number.\n",
    "This contrasts with systems like Roman numerals or unary numbers, where the position of a symbol does not affect its value.\n",
    "In positional notation, each digit's place corresponds to a specific power of the system's base.\n",
    "\n",
    "In a positional system, representing a number involves the following steps:\n",
    "1. Decide on the base (or radix) $b$.\n",
    "2. Define the notation for the digits.\n",
    "3. Write the number as:\n",
    "   $$\n",
    "   \\pm (\\dots d_3 d_2 d_1 d_0 . d_{-1} d_{-2} d_{-3} \\dots),\n",
    "   $$\n",
    "   which represents:\n",
    "   $$\n",
    "   \\pm (\\dots + d_3 b^3 + d_2 b^2 + d_1 b^1 + d_0 b^0 + d_{-1} b^{-1} + d_{-2} b^{-2} + d_{-3} b^{-3} + \\dots).\n",
    "   $$\n",
    "\n",
    "To convert a number from base $b$ to decimal, we apply this definition directly. For example:\n",
    "$$\n",
    "(256.4)_8 = 2\\times8^2 + 5\\times8^1 + 6\\times8^0 + 4\\times8^{-1} = (174.5)_{10}.\n",
    "$$\n"
   ]
  },
  {
   "cell_type": "markdown",
   "id": "4",
   "metadata": {},
   "source": [
    "### Binary Numbers\n",
    "\n",
    "* Base: $b = 2$\n",
    "* Digits: 0, 1\n",
    "\n",
    "```{figure} figures/measure.png\n",
    "Binary system was invented by merchants in medieval England.\n",
    "```\n",
    "\n",
    "The binary system has been used in various forms long before the age of computers.\n",
    "Invented by merchants in medieval England, the units of liquid measure were based on the binary system. For example:\n",
    "* 1 gallon = 2 pottles;\n",
    "* 1 pottle = 2 quarts;\n",
    "* 1 quart = 2 pints;\n",
    "* 1 pint = 2 cups; etc.\n",
    "\n",
    "Similarly, the binary system is used in music to define note durations, i.e., whole note, half note, quarter note, eighth note, sixteenth note, etc.\n",
    "These everyday examples reflect the fundamental nature of the binary system, which underpins much of modern computing.\n",
    "\n",
    "```{figure} figures/binary-shirt.png\n",
    "There are `10` types of people in the world...\n",
    "```\n",
    "\n",
    "In the binary system, only two digits are used: 0 and 1.\n",
    "The position of each digit in a binary number corresponds to a power of 2, just as the position of a digit in the decimal system corresponds to a power of 10.\n",
    "For example, the binary number $1011_2$ represents: $1 \\times 2^3 + 0 \\times 2^2 + 1 \\times 2^1 + 1 \\times 2^0$.\n",
    "This gives the decimal value: $1 \\times 8 + 0 \\times 4 + 1 \\times 2 + 1 \\times 1 = 11$."
   ]
  }
 ],
 "metadata": {
  "kernelspec": {
   "display_name": "Python 3 (ipykernel)",
   "language": "python",
   "name": "python3"
  },
  "language_info": {
   "codemirror_mode": {
    "name": "ipython",
    "version": 3
   },
   "file_extension": ".py",
   "mimetype": "text/x-python",
   "name": "python",
   "nbconvert_exporter": "python",
   "pygments_lexer": "ipython3",
   "version": "3.12.6"
  }
 },
 "nbformat": 4,
 "nbformat_minor": 5
}
