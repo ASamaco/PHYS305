{
 "cells": [
  {
   "cell_type": "markdown",
   "id": "0",
   "metadata": {},
   "source": [
    "# Data Representation and Errors\n",
    "\n",
    "```{epigraph}\n",
    "The decimal system has been established, somewhat foolishly to be\n",
    "sure, according to man's custom, not from a natural necessity as most\n",
    "people think.\n",
    "\n",
    "-- Blaise Pascal (1623--1662)\n",
    "```"
   ]
  },
  {
   "cell_type": "markdown",
   "id": "1",
   "metadata": {
    "editable": true,
    "slideshow": {
     "slide_type": ""
    },
    "tags": []
   },
   "source": [
    "## Riddle\n",
    "\n",
    "You have 1000 bottles of wine for a birthday party.\n",
    "20 hours before the party, the winery indicates that 1 bottle is filled with poison, but they don't tell you which one.\n",
    "You have 10 lab mice to test this.\n",
    "The poison is so strong that it will kill any mouse that drinks it within 18 hours.\n",
    "Is there a way to find the poisoned bottle using the 10 mice before the party?"
   ]
  },
  {
   "cell_type": "markdown",
   "id": "2",
   "metadata": {
    "editable": true,
    "slideshow": {
     "slide_type": ""
    },
    "tags": []
   },
   "source": [
    "## Representing Numbers\n",
    "\n",
    "Efficient number representation, as illustrated in the riddle, enables us to solve seemingly impossible problems.\n",
    "The evolution of numeral systems reflects humanity's progress toward clarity and efficiency in expressing numbers.\n",
    "\n",
    "* **Unary System**:\n",
    "  The simplest system, where each number is represented by identical marks.\n",
    "  For example, 5 is written as \"|||||.\"\n",
    "  While easy to understand and requiring no skill for addition, unary becomes impractical for large values—representing 888 requires 888 marks.\n",
    "\n",
    "* **Roman Numerals**:\n",
    "  An improvement over unary, Roman numerals use symbols such as I (1), V (5), X (10), L (50), C (100), D (500), and M (1000).\n",
    "  However, representing numbers like 888 (DCCCLXXXVIII) still requires 12 symbols, making it cumbersome and inefficient for large numbers.\n",
    "\n",
    "* **Arabic Numerals**:\n",
    "  A revolutionary advancement, the Arabic numeral system uses positional notation to represent numbers compactly and efficiently.\n",
    "  For instance, 888 requires only three digits, drastically reducing complexity and enhancing clarity, making it the foundation of modern mathematics."
   ]
  },
  {
   "cell_type": "markdown",
   "id": "3",
   "metadata": {
    "editable": true,
    "slideshow": {
     "slide_type": ""
    },
    "tags": []
   },
   "source": [
    "### Positional Notation Systems\n",
    "\n",
    "The Arabic numeral system is an example of a **positional notation system**, where the value of a digit is determined by both the digit itself and its position within the number.\n",
    "This contrasts with systems like Roman numerals or unary numbers, where the position of a symbol does not affect its value.\n",
    "In positional notation, each digit's place corresponds to a specific power of the system's base.\n",
    "\n",
    "In a positional system, representing a number involves the following steps:\n",
    "1. Decide on the base (or radix) $b$.\n",
    "2. Define the notation for the digits.\n",
    "3. Write the number as:\n",
    "   $$\n",
    "   \\pm (\\dots d_3 d_2 d_1 d_0 . d_{-1} d_{-2} d_{-3} \\dots),\n",
    "   $$\n",
    "   which represents:\n",
    "   $$\n",
    "   \\pm (\\dots + d_3 b^3 + d_2 b^2 + d_1 b^1 + d_0 b^0 + d_{-1} b^{-1} + d_{-2} b^{-2} + d_{-3} b^{-3} + \\dots).\n",
    "   $$\n",
    "\n",
    "To convert a number from base $b$ to decimal, we apply this definition directly. For example:\n",
    "$$\n",
    "(256.4)_8 = 2\\times8^2 + 5\\times8^1 + 6\\times8^0 + 4\\times8^{-1} = (174.5)_{10}.\n",
    "$$\n"
   ]
  },
  {
   "cell_type": "markdown",
   "id": "4",
   "metadata": {},
   "source": [
    "### Binary Numbers\n",
    "\n",
    "* Base: $b = 2$\n",
    "* Digits: 0, 1\n",
    "\n",
    "```{figure} figures/measure.png\n",
    "Binary system was invented by merchants in medieval England.\n",
    "```\n",
    "\n",
    "The binary system has been used in various forms long before the age of computers.\n",
    "Invented by merchants in medieval England, the units of liquid measure were based on the binary system. For example:\n",
    "* 1 gallon = 2 pottles;\n",
    "* 1 pottle = 2 quarts;\n",
    "* 1 quart = 2 pints;\n",
    "* 1 pint = 2 cups; etc.\n",
    "\n",
    "Similarly, the binary system is used in music to define note durations, i.e., whole note, half note, quarter note, eighth note, sixteenth note, etc.\n",
    "These everyday examples reflect the fundamental nature of the binary system, which underpins much of modern computing.\n",
    "\n",
    "```{figure} figures/binary-shirt.png\n",
    "There are `10` types of people in the world...\n",
    "```\n",
    "\n",
    "In the binary system, only two digits are used: 0 and 1.\n",
    "The position of each digit in a binary number corresponds to a power of 2, just as the position of a digit in the decimal system corresponds to a power of 10.\n",
    "For example, the binary number $1011_2$ represents: $1 \\times 2^3 + 0 \\times 2^2 + 1 \\times 2^1 + 1 \\times 2^0$.\n",
    "This gives the decimal value: $1 \\times 8 + 0 \\times 4 + 1 \\times 2 + 1 \\times 1 = 11$."
   ]
  },
  {
   "cell_type": "markdown",
   "id": "5",
   "metadata": {},
   "source": [
    "In Python, you can use the `bin()` function to convert an integer to its binary string representation, and the `int()` function to convert a binary string back to an integer.\n",
    "This is particularly useful when working with binary numbers in computations."
   ]
  },
  {
   "cell_type": "code",
   "execution_count": null,
   "id": "6",
   "metadata": {},
   "outputs": [],
   "source": [
    "# Convert an integer to a binary string\n",
    "number = 10\n",
    "binary = bin(number)\n",
    "print(f\"Binary representation of {number}: {binary}\")"
   ]
  },
  {
   "cell_type": "code",
   "execution_count": null,
   "id": "7",
   "metadata": {},
   "outputs": [],
   "source": [
    "# Convert a binary string back to an integer\n",
    "binary = \"0b1010\" # the leading \"0b\" is optional\n",
    "number = int(binary, 2)\n",
    "print(f\"Integer value of {binary}: {number}\")"
   ]
  },
  {
   "cell_type": "markdown",
   "id": "8",
   "metadata": {},
   "source": [
    "Note that the above examples use **formatted string literals**, commonly known as \"f-strings.\"\n",
    "F-strings provide a concise and readable way to embed expressions inside string literals by prefixing the string with an `f` or `F` character."
   ]
  },
  {
   "cell_type": "markdown",
   "id": "9",
   "metadata": {},
   "source": [
    "Python supports representing binary numbers directly using the `0b` prefix for literals.\n",
    "This allows you to define binary numbers without converting from a string format."
   ]
  },
  {
   "cell_type": "code",
   "execution_count": null,
   "id": "10",
   "metadata": {},
   "outputs": [],
   "source": [
    "binary = 0b1010  # 10 in decimal\n",
    "print(f\"Binary number: {binary}\")"
   ]
  },
  {
   "cell_type": "markdown",
   "id": "11",
   "metadata": {},
   "source": [
    "### The Hexadecimal System\n",
    "\n",
    "* Base: $b = 16$\n",
    "* Digits: 0, 1, 2, 3, 4, 5, 6, 7, 8, 9, A, B, C, D, E, F\n",
    "\n",
    "The hexadecimal system allows for writing a binary number in a very compact notation.\n",
    "It allows one to directly ready the binary content of a file, e.g.,\n",
    "```\n",
    "% hexdump -C /bin/sh | head\n",
    "00000000  ca fe ba be 00 00 00 02  01 00 00 07 00 00 00 03  |................|\n",
    "00000010  00 00 40 00 00 00 6a b0  00 00 00 0e 01 00 00 0c  |..@...j.........|\n",
    "00000020  80 00 00 02 00 00 c0 00  00 00 cb 70 00 00 00 0e  |...........p....|\n",
    "00000030  00 00 00 00 00 00 00 00  00 00 00 00 00 00 00 00  |................|\n",
    "*\n",
    "00004000  cf fa ed fe 07 00 00 01  03 00 00 00 02 00 00 00  |................|\n",
    "00004010  11 00 00 00 c0 04 00 00  85 00 20 00 00 00 00 00  |.......... .....|\n",
    "00004020  19 00 00 00 48 00 00 00  5f 5f 50 41 47 45 5a 45  |....H...__PAGEZE|\n",
    "00004030  52 4f 00 00 00 00 00 00  00 00 00 00 00 00 00 00  |RO..............|\n",
    "00004040  00 00 00 00 01 00 00 00  00 00 00 00 00 00 00 00  |................|\n",
    "```\n",
    "or directly select a color\n",
    "```{figure} figures/color.png\n",
    "Hex numbers are used to select colors.\n",
    "```"
   ]
  },
  {
   "cell_type": "markdown",
   "id": "12",
   "metadata": {},
   "source": [
    "Python also supports working with hexadecimal numbers, which are represented using the `0x` prefix.\n",
    "Below are examples demonstrating how to handle hexadecimal numbers in Python."
   ]
  },
  {
   "cell_type": "code",
   "execution_count": null,
   "id": "13",
   "metadata": {},
   "outputs": [],
   "source": [
    "number = 255\n",
    "hexrep = hex(number)\n",
    "print(f\"Hexadecimal representation of {number}: {hexrep}\")"
   ]
  },
  {
   "cell_type": "code",
   "execution_count": null,
   "id": "14",
   "metadata": {},
   "outputs": [],
   "source": [
    "hexrep = \"0xff\"\n",
    "number = int(hexrep, 16)\n",
    "print(f\"Integer value of {hexrep}: {number}\")"
   ]
  },
  {
   "cell_type": "code",
   "execution_count": null,
   "id": "15",
   "metadata": {},
   "outputs": [],
   "source": [
    "hexrep = 0xff  # 10 in decimal\n",
    "print(f\"Hexadecimal number: {hexrep}\")"
   ]
  },
  {
   "cell_type": "markdown",
   "id": "16",
   "metadata": {},
   "source": [
    "```{note}\n",
    "\n",
    "### Quantum Computing: A New Level of Number Representation\n",
    "\n",
    "Quantum computing takes number representation to a whole new level.\n",
    "In quantum mechanics, data is represented using quantum bits, or qubits.\n",
    "Unlike classical bits, a single qubit can exist in a superposition of two states, $|0\\rangle$ and $|1\\rangle$, simultaneously.\n",
    "This means that (ignoring normalization for now) one qubit can represent two numbers $C_0$ and $C_1$ as in $C_0 |0\\rangle + C_1 |1\\rangle$.\n",
    "\n",
    "With two qubits, the system can represent four possible states: $|00\\rangle$, $|01\\rangle$, $|10\\rangle$, and $|11\\rangle$, again, in superposition.\n",
    "The number of possible states grows exponentially as more qubits are added:\n",
    "* Three qubits can represent eight states: $|000\\rangle$, $|001\\rangle$, $|010\\rangle$, ..., $|111\\rangle$.\n",
    "* Four qubits represent 16 states, and so on.\n",
    "\n",
    "In general, $n$ qubits can represent $2^n$ states at once.\n",
    "This exponential scaling is what gives quantum computers their enormous potential to perform certain types of calculations far more efficiently than classical computers.\n",
    "\n",
    "For example, IBM's 53-qubit quantum computer can represent $2^{53}$ states simultaneously.\n",
    "In terms of classical information, this is equivalent to storing approximately 1 petabyte (PB) of data, which is comparable to the amount of memory available in some of the world's largest supercomputers today.\n",
    "```"
   ]
  },
  {
   "cell_type": "markdown",
   "id": "17",
   "metadata": {},
   "source": [
    "```{note}\n",
    "\n",
    "### Superposition Hypothesis in Large Language Models\n",
    "\n",
    "The [Superposition Hypothesis](https://transformer-circuits.pub/2022/toy_model/index.html) in large language models (LLMs) proposes that individual neurons or parameters can encode multiple overlapping features, depending on context.\n",
    "This is analogous to quantum superposition, where qubits represent multiple states simultaneously. \n",
    "\n",
    "For example, a single neuron in an LLM might activate for both \"dog\" and \"pet,\" enabling efficient reuse of parameters.\n",
    "This ability is further supported by high-dimensional embeddings, where concepts are represented as nearly orthogonal vectors, allowing the model to store and distinguish vast amounts of information with minimal interference.\n",
    "The [Johnson–Lindenstrauss Lemma](https://en.wikipedia.org/wiki/Johnson%E2%80%93Lindenstrauss_lemma) explains how high-dimensional spaces accommodate such efficient representations.\n",
    "\n",
    "While the Superposition Hypothesis provides a promising explanation for the efficiency of LLMs, it remains an area of active research to fully understand the mechanisms underlying their success.\n",
    "```"
   ]
  },
  {
   "cell_type": "markdown",
   "id": "18",
   "metadata": {},
   "source": [
    "## Hardware Implementations: Basic Binary Operators and Arithmetic\n",
    "\n",
    "Binary operators are the foundation of computation in digital hardware.\n",
    "They are implemented using **logic gates**, which are constructed using CMOS (Complementary Metal-Oxide-Semiconductor) technology.\n",
    "This section introduces binary operators, universal gates, CMOS implementation, and key arithmetic circuits like adders."
   ]
  },
  {
   "cell_type": "markdown",
   "id": "19",
   "metadata": {},
   "source": [
    "### Basic Binary Operators\n",
    "\n",
    "1. AND Operator (`&`)\n",
    "   ```{code}\n",
    "   | A | B | A & B |\n",
    "   |---|---|-------|\n",
    "   | 0 | 0 |   0   |\n",
    "   | 0 | 1 |   0   |\n",
    "   | 1 | 0 |   0   |\n",
    "   | 1 | 1 |   1   |\n",
    "   ```"
   ]
  },
  {
   "cell_type": "markdown",
   "id": "20",
   "metadata": {},
   "source": [
    "2. OR Operator (`|`)\n",
    "   ```{code}\n",
    "   | A | B | A | B |\n",
    "   |---|---|-------|\n",
    "   | 0 | 0 |   0   |\n",
    "   | 0 | 1 |   1   |\n",
    "   | 1 | 0 |   1   |\n",
    "   | 1 | 1 |   1   |\n",
    "   ```"
   ]
  },
  {
   "cell_type": "markdown",
   "id": "21",
   "metadata": {},
   "source": [
    "3. XOR Operator (`^`)\n",
    "   ```{code}\n",
    "   | A | B | A ^ B |\n",
    "   |---|---|-------|\n",
    "   | 0 | 0 |   0   |\n",
    "   | 0 | 1 |   1   |\n",
    "   | 1 | 0 |   1   |\n",
    "   | 1 | 1 |   0   |\n",
    "   ```"
   ]
  },
  {
   "cell_type": "markdown",
   "id": "22",
   "metadata": {},
   "source": [
    "4. NOT Operator (`~`)\n",
    "   ```{code}\n",
    "   | A | ~A |\n",
    "   |---|----|\n",
    "   | 0 |  1 |\n",
    "   | 1 |  0 |\n",
    "   ```"
   ]
  },
  {
   "cell_type": "markdown",
   "id": "23",
   "metadata": {},
   "source": [
    "5. NAND and NOR Operators\n",
    "   * NAND (NOT AND):** Outputs `0` only when both inputs are `1`.\n",
    "   * NOR (NOT OR):** Outputs `1` only when both inputs are `0`."
   ]
  },
  {
   "cell_type": "markdown",
   "id": "24",
   "metadata": {},
   "source": [
    "### Universal Gates\n",
    "\n",
    "**NAND** and **NOR** gates are called **universal gates** because any other logic gate can be constructed using just these gates.\n",
    "For example:\n",
    "* **NOT Gate Using NAND:** Connect both inputs of a NAND gate to the same signal.\n",
    "* **AND Gate Using NAND:** Combine multiple NAND gates to mimic AND functionality.\n",
    "\n",
    "Universal gates are fundamental in hardware design, as they simplify manufacturing by reducing the variety of components needed."
   ]
  }
 ],
 "metadata": {
  "kernelspec": {
   "display_name": "Python 3 (ipykernel)",
   "language": "python",
   "name": "python3"
  },
  "language_info": {
   "codemirror_mode": {
    "name": "ipython",
    "version": 3
   },
   "file_extension": ".py",
   "mimetype": "text/x-python",
   "name": "python",
   "nbconvert_exporter": "python",
   "pygments_lexer": "ipython3",
   "version": "3.12.6"
  }
 },
 "nbformat": 4,
 "nbformat_minor": 5
}
