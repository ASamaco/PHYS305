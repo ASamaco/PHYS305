{
 "cells": [
  {
   "cell_type": "markdown",
   "id": "0",
   "metadata": {},
   "source": [
    "# Errors"
   ]
  },
  {
   "cell_type": "markdown",
   "id": "1",
   "metadata": {},
   "source": [
    "## Machine Accuracy\n",
    "\n",
    "In order to quantify round-off errors, we define:\n",
    "$$\n",
    "\\text{(relative error)} \\equiv \\frac{x - \\bar{x}}{x}.\n",
    "$$\n",
    "\n",
    "If we use a numeral system of base $b$ and keep $p$ significant digits, the machine accuracy is\n",
    "$$\n",
    "\\epsilon = \\left(\\frac{b}{2}\\right) b^{-p}.\n",
    "$$\n",
    "\n",
    "A single-precision floating-point number, which stores 23 significant digits in binary (the mantissa), provides a machine accuracy of approximately $\\epsilon_\\mathrm{single} = 2^{-23} \\approx 10^{-7}$ in decimal.\n",
    "In contrast, a double-precision floating-point number, with 52 significant binary digits, corresponds to a much finer machine accuracy of about $\\epsilon_\\mathrm{double} = 2^{-52} \\approx 2\\times10^{-16}$ in decimal."
   ]
  },
  {
   "cell_type": "markdown",
   "id": "2",
   "metadata": {},
   "source": [
    "## Accumulation of round-off errors"
   ]
  },
  {
   "cell_type": "code",
   "execution_count": null,
   "id": "3",
   "metadata": {},
   "outputs": [],
   "source": [
    "def simple_sum(x, n):\n",
    "    s = 0.0\n",
    "    for i in range(n):\n",
    "        s += x\n",
    "    return s"
   ]
  },
  {
   "cell_type": "code",
   "execution_count": null,
   "id": "4",
   "metadata": {},
   "outputs": [],
   "source": [
    "x = 0.1\n",
    "n = 10\n",
    "s = simple_sum(x, n)\n",
    "e = abs(s/n - x) / x\n",
    "print(f\"Mean = {s}; relative error = {e}\")"
   ]
  },
  {
   "cell_type": "code",
   "execution_count": null,
   "id": "5",
   "metadata": {},
   "outputs": [],
   "source": [
    "N        = [2**p for p in range(10,25)]\n",
    "E_simple = [abs(simple_sum(x, n)/n - x) / x for n in N]"
   ]
  },
  {
   "cell_type": "code",
   "execution_count": null,
   "id": "6",
   "metadata": {},
   "outputs": [],
   "source": [
    "from matplotlib import pyplot as plt\n",
    "\n",
    "plt.loglog(N, E_simple, label='Direct Sum')"
   ]
  },
  {
   "cell_type": "code",
   "execution_count": null,
   "id": "7",
   "metadata": {},
   "outputs": [],
   "source": [
    "def Kahan_sum(x, n):\n",
    "    c = 0.0\n",
    "    s = 0.0\n",
    "    for i in range(n):\n",
    "        xp = x - c\n",
    "        c  = ((s + xp) - s) - xp\n",
    "        s += x - c\n",
    "    return s"
   ]
  },
  {
   "cell_type": "code",
   "execution_count": null,
   "id": "8",
   "metadata": {},
   "outputs": [],
   "source": [
    "E_Kahan = [abs(Kahan_sum(x, n)/n - x) / x for n in N]"
   ]
  },
  {
   "cell_type": "code",
   "execution_count": null,
   "id": "9",
   "metadata": {},
   "outputs": [],
   "source": [
    "plt.loglog(N, E_simple, label='Simple Sum')\n",
    "plt.loglog(N, E_Kahan,  label='Kahan Sum')"
   ]
  },
  {
   "cell_type": "code",
   "execution_count": null,
   "id": "10",
   "metadata": {},
   "outputs": [],
   "source": [
    "import numpy as np\n",
    "\n",
    "def numpy_sum(x, n):\n",
    "    X = np.repeat(x, n)\n",
    "    return np.sum(X)"
   ]
  },
  {
   "cell_type": "code",
   "execution_count": null,
   "id": "11",
   "metadata": {},
   "outputs": [],
   "source": [
    "E_numpy = [abs(numpy_sum(x, n)/n - x) / x for n in N]"
   ]
  },
  {
   "cell_type": "code",
   "execution_count": null,
   "id": "12",
   "metadata": {},
   "outputs": [],
   "source": [
    "plt.loglog(N, E_simple, label='Simple Sum')\n",
    "plt.loglog(N, E_Kahan,  label='Kahan Sum')\n",
    "plt.loglog(N, E_numpy,  label='Kahan Sum')"
   ]
  }
 ],
 "metadata": {
  "kernelspec": {
   "display_name": "Python 3 (ipykernel)",
   "language": "python",
   "name": "python3"
  },
  "language_info": {
   "codemirror_mode": {
    "name": "ipython",
    "version": 3
   },
   "file_extension": ".py",
   "mimetype": "text/x-python",
   "name": "python",
   "nbconvert_exporter": "python",
   "pygments_lexer": "ipython3",
   "version": "3.12.6"
  }
 },
 "nbformat": 4,
 "nbformat_minor": 5
}
