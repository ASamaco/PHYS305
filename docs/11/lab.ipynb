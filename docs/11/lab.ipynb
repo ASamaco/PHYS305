{
 "cells": [
  {
   "cell_type": "markdown",
   "id": "0",
   "metadata": {},
   "source": [
    "# Hands-On Lab: Distribution of Superluminal Velocities in Quasars"
   ]
  },
  {
   "cell_type": "markdown",
   "id": "1",
   "metadata": {},
   "source": [
    "In certain radio-loud quasars, astronomers observe apparent superluminal motion.\n",
    "I.e., jet components that appear to move *faster than light* in the plane of the sky.\n",
    "This effect is explained by relativistic beaming plus light-travel-time*geometry, not an actual violation of relativity.\n",
    "In this lab, you will:\n",
    "\n",
    "1. **Model** a population of quasar jets launched at speed $\\beta c$ in random directions.\n",
    "2. **Compute** each jet's apparent transverse velocity $\\beta' \\equiv v'/c$.\n",
    "3. **Compare** your empirical distribution of $\\beta'$ with a known theoretical result.\n",
    "4. **Estimate** mean values and build confidence intervals, tying in concepts from parameter estimation.\n",
    "5. **Explore** possible bias if only jets above some detection threshold are \"observed\".\n",
    "\n",
    "This exercise demonstrates how **random orientation** plus **relativistic speeds** yield \"superluminal\" expansions in a statistical sample, and how the distribution is theoretically predictable."
   ]
  },
  {
   "cell_type": "markdown",
   "id": "2",
   "metadata": {},
   "source": [
    "## 1. Physical Recap\n",
    "\n",
    "A quasar jet moving at speed $v$ at an angle $\\theta$ to our line of sight can show apparent velocity:\n",
    "\\begin{align}\n",
    "v' &= \\frac{d_\\perp}{\\Delta t} = \\frac{v\\sin\\theta}{1 - (v/c)\\cos\\theta}\n",
    "\\end{align}\n",
    "Note that although a $v/c$ term appears in this expression, the eﬀect is not a relativistic eﬀect.\n",
    "It is just due to light delay and the viewing geometry.\n",
    "Let $\\beta = v/c$ and $\\beta' = v'/c$,\n",
    "\\begin{align}\n",
    "\\beta' &= \\frac{\\beta\\sin\\theta}{1 - \\beta\\cos\\theta}\n",
    "\\end{align}"
   ]
  },
  {
   "cell_type": "markdown",
   "id": "3",
   "metadata": {},
   "source": [
    "Note that the apparent transverse speed $\\beta'$ has a maximum value when\n",
    "\\begin{align}\n",
    "\\frac{\\partial\\beta'}{\\partial\\theta} = - \\frac{\\beta(\\beta-\\cos\\theta)}{(1 - \\beta\\cos\\theta)^2} = 0.\n",
    "\\end{align}\n",
    "Hence, $\\beta = \\cos\\theta$ at maximum.\n",
    "Define $\\gamma = (1 - \\beta^2)^{-1/2}$, we have $1/\\gamma = \\sin\\theta$ at the maximum.\n",
    "Therefore,\n",
    "\\begin{align}\n",
    "\\beta' = \\gamma\\beta\n",
    "\\end{align}\n",
    "where $\\gamma$ can be much larger than unity."
   ]
  }
 ],
 "metadata": {
  "kernelspec": {
   "display_name": "Python 3 (ipykernel)",
   "language": "python",
   "name": "python3"
  },
  "language_info": {
   "codemirror_mode": {
    "name": "ipython",
    "version": 3
   },
   "file_extension": ".py",
   "mimetype": "text/x-python",
   "name": "python",
   "nbconvert_exporter": "python",
   "pygments_lexer": "ipython3",
   "version": "3.12.6"
  }
 },
 "nbformat": 4,
 "nbformat_minor": 5
}
