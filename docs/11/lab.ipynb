{
 "cells": [
  {
   "cell_type": "markdown",
   "id": "4d727541-162a-43c1-9093-9b67def6579a",
   "metadata": {},
   "source": [
    "# Hands-On Lab: Distribution of Superluminal Velocities in Quasars"
   ]
  },
  {
   "cell_type": "markdown",
   "id": "e39e3986-fc64-4000-be05-6b6b9c3bf325",
   "metadata": {},
   "source": [
    "In certain radio-loud quasars, astronomers observe apparent superluminal motion.\n",
    "I.e., jet components that appear to move *faster than light* in the plane of the sky.\n",
    "This effect is explained by relativistic beaming plus light-travel-time*geometry, not an actual violation of relativity.\n",
    "In this lab, you will:\n",
    "\n",
    "1. **Model** a population of quasar jets launched at speed $\\beta c$ in random directions.\n",
    "2. **Compute** each jet's apparent transverse velocity $\\beta' \\equiv v'/c$.\n",
    "3. **Compare** your empirical distribution of $\\beta'$ with a known theoretical result.\n",
    "4. **Estimate** mean values and build confidence intervals, tying in concepts from parameter estimation.\n",
    "5. **Explore** possible bias if only jets above some detection threshold are \"observed\".\n",
    "\n",
    "This exercise demonstrates how **random orientation** plus **relativistic speeds** yield \"superluminal\" expansions in a statistical sample, and how the distribution is theoretically predictable."
   ]
  }
 ],
 "metadata": {
  "kernelspec": {
   "display_name": "Python 3 (ipykernel)",
   "language": "python",
   "name": "python3"
  },
  "language_info": {
   "codemirror_mode": {
    "name": "ipython",
    "version": 3
   },
   "file_extension": ".py",
   "mimetype": "text/x-python",
   "name": "python",
   "nbconvert_exporter": "python",
   "pygments_lexer": "ipython3",
   "version": "3.12.6"
  }
 },
 "nbformat": 4,
 "nbformat_minor": 5
}
