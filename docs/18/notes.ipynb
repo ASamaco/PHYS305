{
 "cells": [
  {
   "cell_type": "markdown",
   "id": "0",
   "metadata": {},
   "source": [
    "# Monte Carlo Methods I: Random Numbers and Random Walk"
   ]
  },
  {
   "cell_type": "markdown",
   "id": "1",
   "metadata": {},
   "source": [
    "Computational physics often begins with the notion that classical equations can perfectly predict the evolution of a system if one knows the initial conditions precisely.\n",
    "However, many real-world processes involve an inherent level of randomness or produce outcomes so sensitive to initial conditions that they effectively appear random.\n",
    "Radioactive decay, governed by quantum mechanics, is an example of truly non-deterministic behavior, whereas chaotic classical systems like the three-body problem can exhibit sensitive dependence on initial conditions.\n",
    "As a result, introducing randomness into our computational methods is not only natural for modeling genuinely stochastic systems but also highly advantageous even in deterministic settings."
   ]
  },
  {
   "cell_type": "markdown",
   "id": "2",
   "metadata": {},
   "source": [
    "Monte Carlo methods, which rely on random sampling to estimate quantities of interest, illustrate how such randomness can be leveraged as a powerful tool in numerical analysis.\n",
    "The phrase \"Monte Carlo\" alludes to the famous casino district in Monaco, highlighting the essence of \"gambling\" with random draws to tackle challenging problems.\n",
    "Since their popularization in mid-twentieth-century nuclear research, Monte Carlo algorithms have found widespread use in evaluating high-dimensional integrals, simulating physical processes in statistical mechanics, performing error analysis in data-driven fields, and more.\n",
    "\n",
    "![Monte Carlo](https://upload.wikimedia.org/wikipedia/commons/1/1b/Monaco_pano.jpg)"
   ]
  },
  {
   "cell_type": "markdown",
   "id": "3",
   "metadata": {},
   "source": [
    "Although real physical systems may exhibit genuine randomness (as seen in quantum events), computer algorithms generate numbers through deterministic procedures.\n",
    "These \"pseudo-random\" sequences are designed to mimic statistical randomness but are entirely reproducible given a specific initial seed.\n",
    "In practice, a well-crafted pseudo-random number generator can satisfy the statistical requirements of scientific simulations, especially if it has a sufficiently large period and low correlations across many dimensions. Modern generators such as the Mersenne Twister, PCG, and Xorshift provide excellent performance in these regards, far surpassing the simpler linear congruential generators of older programming standards."
   ]
  },
  {
   "cell_type": "markdown",
   "id": "4",
   "metadata": {},
   "source": [
    "## Pseudo-Random Number Generators (PRNGs)"
   ]
  },
  {
   "cell_type": "markdown",
   "id": "5",
   "metadata": {},
   "source": [
    "In computational physics, random draws are often produced by deterministic algorithms called pseudo-random number generators.\n",
    "These generators start from an internal seed and use a mathematical rule to transform it repeatedly, producing an output sequence that ideally appears random.\n",
    "Although each sequence is entirely predictable if one knows the seed and the algorithm, a good generator will avoid obvious patterns and pass stringent statistical tests."
   ]
  },
  {
   "cell_type": "markdown",
   "id": "6",
   "metadata": {},
   "source": [
    "Early implementations of pseudo-random number generators were often based on linear congruential generators. The simplest form of this approach looks something like\n",
    "\\begin{align}\n",
    "x_{n+1} = (a x_n + c) \\mathrm{\\ mod\\ } m,\n",
    "\\end{align}\n",
    "where $x_n$ represents the state at step $n$, and $a$, $c$, and $m$ are carefully chosen integers."
   ]
  },
  {
   "cell_type": "code",
   "execution_count": null,
   "id": "7",
   "metadata": {},
   "outputs": [],
   "source": [
    "# In order to understand the concept of a random number generator, let's implement one ourself.\n",
    "\n",
    "mynext = 1\n",
    "\n",
    "def myrand(): # NOT RECOMMENDED for real application.\n",
    "    global mynext # by default, python does not recognize variable in a different scope.\n",
    "    mynext = mynext * 1103515245 + 12345\n",
    "    return (mynext//65536) % 32768\n",
    "\n",
    "# This random number generator would generate integers in the domain [0, 32768).\n",
    "# This random is usually provided to user by\n",
    "\n",
    "MYRAND_MAX = 32768-1\n",
    "\n",
    "# There are reasons for choosing the strange constants.  Take a look at\n",
    "#     https://en.wikipedia.org/wiki/Linear_congruential_generator\n",
    "# if you are interested."
   ]
  },
  {
   "cell_type": "code",
   "execution_count": null,
   "id": "8",
   "metadata": {},
   "outputs": [],
   "source": [
    "# Now, every time we run `rand()`, we will get a different number\n",
    "\n",
    "myrand()"
   ]
  },
  {
   "cell_type": "code",
   "execution_count": null,
   "id": "9",
   "metadata": {},
   "outputs": [],
   "source": [
    "# We may just print many of them at the same time:\n",
    "\n",
    "Rs = [myrand() for i in range(100)]\n",
    "print(Rs)"
   ]
  },
  {
   "cell_type": "code",
   "execution_count": null,
   "id": "10",
   "metadata": {},
   "outputs": [],
   "source": [
    "# Sometime it is useful to make sure your random number sequence remains the same.\n",
    "# In our case, you may notice that we can simply reset the `mynext` global variable to reset the sequence.\n",
    "# The value you put in `mynext` is often called the \"seed\".\n",
    "\n",
    "print('The following two lists are not the same:')\n",
    "print([myrand() for i in range(10)])\n",
    "print([myrand() for i in range(10)])\n",
    "\n",
    "print('We may ensure that they are the same by \"seeding\" the random number generator with a fixed value:')\n",
    "\n",
    "mynext = 1234\n",
    "print([myrand() for i in range(10)])\n",
    "\n",
    "mynext = 1234\n",
    "print([myrand() for i in range(10)])"
   ]
  },
  {
   "cell_type": "code",
   "execution_count": null,
   "id": "11",
   "metadata": {},
   "outputs": [],
   "source": [
    "# We may even plot the random numbers\n",
    "\n",
    "from matplotlib import pyplot as plt\n",
    "\n",
    "ll = [[myrand() for i in range(200)] for j in range(200)]\n",
    "plt.imshow(ll)"
   ]
  },
  {
   "cell_type": "markdown",
   "id": "12",
   "metadata": {},
   "source": [
    "This random number generator is very simple and is the *sample* implementation in many ANSI C libraries!\n",
    "However, because how the standard was written, this create a lot problems.\n",
    "* The standard only require `RAND_MAX` be at least 32767.\n",
    "  If one want to evulate 1e6 points (which is pretty small, as we will see below), you will actually be evaluating the same 32768 points 30 times each!\n",
    "* Some implementation \"tried\" to imporve the algorithm, e.g., swapping the lower and higher bytes.\n",
    "  But these tricks sometime ruins the generator!\n",
    "* Integrating high-dimension space is an important application of Monte Carlo methods.\n",
    "  However, the congruential generators create correlation in k-space."
   ]
  },
  {
   "cell_type": "markdown",
   "id": "13",
   "metadata": {},
   "source": [
    "When programming in Python, we often take advantage of the built-in random module or NumPy's random subpackage, both of which default to high-quality generators (the Mersenne Twister for Python's default, and similarly robust methods in NumPy).\n",
    "We can seed these generators manually to ensure reproducible research, or we may allow them to seed automatically for convenience.\n",
    "While these generators generally suffice for undergraduate-level simulations, more intricate studies---particularly those involving very large datasets or extremely sensitive measurements---may require advanced or specialized libraries for best results."
   ]
  },
  {
   "cell_type": "markdown",
   "id": "14",
   "metadata": {},
   "source": [
    "We start by trying python's random number library.\n",
    "It is implemented in a very traditional way, which relies on a global seed and \"procedure\" programming style:"
   ]
  },
  {
   "cell_type": "code",
   "execution_count": null,
   "id": "15",
   "metadata": {},
   "outputs": [],
   "source": [
    "import random as pyr\n",
    "\n",
    "print(pyr)\n",
    "pyr.seed(0)\n",
    "\n",
    "print(pyr.random())           # return a random float in the range [0,1)\n",
    "print(pyr.randrange(100))     # return a random int in the range [0, stop)\n",
    "print(pyr.randint(a=0,b=99))  # return a random int in the range [a, b+1); alias for randrange(a, b+1)"
   ]
  },
  {
   "cell_type": "markdown",
   "id": "16",
   "metadata": {},
   "source": [
    "Next, we  Let's now try numpy's random number module.\n",
    "It can also be used with a global seed.\n",
    "However, for modern applications, it is often better to use object oriented (OO) approach, where the random number generator's state is stored in an object.\n",
    "This allows one to create multiple random number generators in a single application."
   ]
  },
  {
   "cell_type": "code",
   "execution_count": null,
   "id": "17",
   "metadata": {},
   "outputs": [],
   "source": [
    "import numpy as np\n",
    "\n",
    "npr = np.random.default_rng(seed=0)\n",
    "print(npr)\n",
    "\n",
    "print(npr.random())                               # return a random float in the range [0,1)\n",
    "print(npr.integers(low=0,high=99))                # return a random int in the range [low, high)\n",
    "print(npr.integers(low=0,high=99,endpoint=True))  # return a random int in the range [low, high] = [low, high+1) for int"
   ]
  },
  {
   "cell_type": "markdown",
   "id": "18",
   "metadata": {},
   "source": [
    "Although numpy's OO approach is already an improvement, it can create ugly bugs for parallel algorithm.\n",
    "Accelerated by GPU, JAX takes a functional programming apporach.\n",
    "The random number generator's state is stored in a \"key\" object.\n",
    "The key is then passed into a jax function to generate random numbers."
   ]
  },
  {
   "cell_type": "code",
   "execution_count": null,
   "id": "19",
   "metadata": {},
   "outputs": [],
   "source": [
    "from jax import random as jxr\n",
    "\n",
    "key = jxr.key(seed=0)\n",
    "print(key)\n",
    "\n",
    "print(jxr.uniform(key))                           # return a random float in the range [0,1)\n",
    "print(jxr.randint(key, (), minval=0, maxval=99))  # return a random int in the range [minval, maxval)"
   ]
  },
  {
   "cell_type": "markdown",
   "id": "20",
   "metadata": {},
   "source": [
    "Note that, unlike `numpy`, the same key always return the same random number:"
   ]
  },
  {
   "cell_type": "code",
   "execution_count": null,
   "id": "21",
   "metadata": {},
   "outputs": [],
   "source": [
    "print(jxr.uniform(key))\n",
    "print(jxr.uniform(key))\n",
    "print(jxr.uniform(key))\n",
    "print(jxr.uniform(key))"
   ]
  },
  {
   "cell_type": "markdown",
   "id": "22",
   "metadata": {},
   "source": [
    "If we need a new random number, we can use `split()` to generate new subkeys:"
   ]
  },
  {
   "cell_type": "code",
   "execution_count": null,
   "id": "23",
   "metadata": {},
   "outputs": [],
   "source": [
    "key, subkey = jxr.split(key)\n",
    "print(jxr.uniform(subkey))\n",
    "print(jxr.uniform(subkey))\n",
    "print(jxr.uniform(subkey))\n",
    "print(jxr.uniform(subkey))"
   ]
  },
  {
   "cell_type": "code",
   "execution_count": null,
   "id": "24",
   "metadata": {},
   "outputs": [],
   "source": [
    "key, subkey = jxr.split(key)\n",
    "print(jxr.uniform(subkey))\n",
    "print(jxr.uniform(subkey))\n",
    "print(jxr.uniform(subkey))\n",
    "print(jxr.uniform(subkey))"
   ]
  },
  {
   "cell_type": "code",
   "execution_count": null,
   "id": "25",
   "metadata": {},
   "outputs": [],
   "source": [
    "from matplotlib import pyplot as plt\n",
    "\n",
    "ll2 = [[rnd.random() for i in range(200)] for j in range(200)]\n",
    "\n",
    "fig, (ax0, ax1) = plt.subplots(1, 2)\n",
    "ax0.imshow(ll)\n",
    "ax1.imshow(ll2)"
   ]
  },
  {
   "cell_type": "code",
   "execution_count": null,
   "id": "26",
   "metadata": {},
   "outputs": [],
   "source": [
    "# We may plot the results of these random number generators\n",
    "\n",
    "Rs = [rnd.random() for i in range(1000)]\n",
    "plt.hist(Rs)"
   ]
  },
  {
   "cell_type": "code",
   "execution_count": null,
   "id": "27",
   "metadata": {},
   "outputs": [],
   "source": [
    "Rs = [rnd.randrange(100) for i in range(1000)]\n",
    "plt.hist(Rs)"
   ]
  },
  {
   "cell_type": "code",
   "execution_count": null,
   "id": "28",
   "metadata": {},
   "outputs": [],
   "source": [
    "Rs = [rnd.gauss(0, 1) for i in range(1000)]\n",
    "plt.hist(Rs)"
   ]
  },
  {
   "cell_type": "code",
   "execution_count": null,
   "id": "29",
   "metadata": {},
   "outputs": [],
   "source": [
    "# There is also a seed() function\n",
    "\n",
    "rnd.seed(1234)\n",
    "print([rnd.randrange(100) for i in range(10)])\n",
    "\n",
    "rnd.seed(1234)\n",
    "print([rnd.randrange(100) for i in range(10)])"
   ]
  }
 ],
 "metadata": {
  "kernelspec": {
   "display_name": "Python 3 (ipykernel)",
   "language": "python",
   "name": "python3"
  },
  "language_info": {
   "codemirror_mode": {
    "name": "ipython",
    "version": 3
   },
   "file_extension": ".py",
   "mimetype": "text/x-python",
   "name": "python",
   "nbconvert_exporter": "python",
   "pygments_lexer": "ipython3",
   "version": "3.13.2"
  }
 },
 "nbformat": 4,
 "nbformat_minor": 5
}
