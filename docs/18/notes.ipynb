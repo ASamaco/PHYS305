{
 "cells": [
  {
   "cell_type": "markdown",
   "id": "0",
   "metadata": {},
   "source": [
    "# Monte Carlo Methods I: Random Numbers and Random Walk"
   ]
  },
  {
   "cell_type": "markdown",
   "id": "1",
   "metadata": {},
   "source": [
    "Computational physics often begins with the notion that classical equations can perfectly predict the evolution of a system if one knows the initial conditions precisely.\n",
    "However, many real-world processes involve an inherent level of randomness or produce outcomes so sensitive to initial conditions that they effectively appear random.\n",
    "Radioactive decay, governed by quantum mechanics, is an example of truly non-deterministic behavior, whereas chaotic classical systems like the three-body problem can exhibit sensitive dependence on initial conditions.\n",
    "As a result, introducing randomness into our computational methods is not only natural for modeling genuinely stochastic systems but also highly advantageous even in deterministic settings."
   ]
  },
  {
   "cell_type": "markdown",
   "id": "2",
   "metadata": {},
   "source": [
    "Monte Carlo methods, which rely on random sampling to estimate quantities of interest, illustrate how such randomness can be leveraged as a powerful tool in numerical analysis.\n",
    "The phrase \"Monte Carlo\" alludes to the famous casino district in Monaco, highlighting the essence of \"gambling\" with random draws to tackle challenging problems.\n",
    "Since their popularization in mid-twentieth-century nuclear research, Monte Carlo algorithms have found widespread use in evaluating high-dimensional integrals, simulating physical processes in statistical mechanics, performing error analysis in data-driven fields, and more.\n",
    "\n",
    "![Monte Carlo](https://upload.wikimedia.org/wikipedia/commons/1/1b/Monaco_pano.jpg)"
   ]
  },
  {
   "cell_type": "markdown",
   "id": "3",
   "metadata": {},
   "source": [
    "Although real physical systems may exhibit genuine randomness (as seen in quantum events), computer algorithms generate numbers through deterministic procedures.\n",
    "These \"pseudo-random\" sequences are designed to mimic statistical randomness but are entirely reproducible given a specific initial seed.\n",
    "In practice, a well-crafted pseudo-random number generator can satisfy the statistical requirements of scientific simulations, especially if it has a sufficiently large period and low correlations across many dimensions. Modern generators such as the Mersenne Twister, PCG, and Xorshift provide excellent performance in these regards, far surpassing the simpler linear congruential generators of older programming standards."
   ]
  },
  {
   "cell_type": "markdown",
   "id": "4",
   "metadata": {},
   "source": [
    "## Pseudo-Random Number Generators (PRNGs)"
   ]
  },
  {
   "cell_type": "markdown",
   "id": "5",
   "metadata": {},
   "source": [
    "In computational physics, random draws are often produced by deterministic algorithms called pseudo-random number generators.\n",
    "These generators start from an internal seed and use a mathematical rule to transform it repeatedly, producing an output sequence that ideally appears random.\n",
    "Although each sequence is entirely predictable if one knows the seed and the algorithm, a good generator will avoid obvious patterns and pass stringent statistical tests."
   ]
  },
  {
   "cell_type": "markdown",
   "id": "6",
   "metadata": {},
   "source": [
    "### Congruential Generators\n",
    "\n",
    "Early implementations of pseudo-random number generators were often based on linear congruential generators. The simplest form of this approach looks something like\n",
    "\\begin{align}\n",
    "x_{n+1} = (a x_n + c) \\mathrm{\\ mod\\ } m,\n",
    "\\end{align}\n",
    "where $x_n$ represents the state at step $n$, and $a$, $c$, and $m$ are carefully chosen integers."
   ]
  },
  {
   "cell_type": "code",
   "execution_count": null,
   "id": "7",
   "metadata": {},
   "outputs": [],
   "source": [
    "# In order to understand the concept of a random number generator, let's implement one ourself.\n",
    "\n",
    "mynext = 1\n",
    "\n",
    "def myrand(): # NOT RECOMMENDED for real application.\n",
    "    global mynext # by default, python does not recognize variable in a different scope.\n",
    "    mynext = mynext * 1103515245 + 12345\n",
    "    return (mynext//65536) % 32768\n",
    "\n",
    "# This random number generator would generate integers in the domain [0, 32768).\n",
    "# This random is usually provided to user by\n",
    "\n",
    "MYRAND_MAX = 32768-1\n",
    "\n",
    "# There are reasons for choosing the strange constants.  Take a look at\n",
    "#     https://en.wikipedia.org/wiki/Linear_congruential_generator\n",
    "# if you are interested."
   ]
  },
  {
   "cell_type": "code",
   "execution_count": null,
   "id": "8",
   "metadata": {},
   "outputs": [],
   "source": [
    "# Now, every time we run `rand()`, we will get a different number\n",
    "\n",
    "myrand()"
   ]
  },
  {
   "cell_type": "code",
   "execution_count": null,
   "id": "9",
   "metadata": {},
   "outputs": [],
   "source": [
    "# We may just print many of them at the same time:\n",
    "\n",
    "Rs = [myrand() for i in range(100)]\n",
    "print(Rs)"
   ]
  },
  {
   "cell_type": "code",
   "execution_count": null,
   "id": "10",
   "metadata": {},
   "outputs": [],
   "source": [
    "# Sometime it is useful to make sure your random number sequence remains the same.\n",
    "# In our case, you may notice that we can simply reset the `mynext` global variable to reset the sequence.\n",
    "# The value you put in `mynext` is often called the \"seed\".\n",
    "\n",
    "print('The following two lists are not the same:')\n",
    "print([myrand() for i in range(10)])\n",
    "print([myrand() for i in range(10)])\n",
    "\n",
    "print('We may ensure that they are the same by \"seeding\" the random number generator with a fixed value:')\n",
    "\n",
    "mynext = 1234\n",
    "print([myrand() for i in range(10)])\n",
    "\n",
    "mynext = 1234\n",
    "print([myrand() for i in range(10)])"
   ]
  },
  {
   "cell_type": "code",
   "execution_count": null,
   "id": "11",
   "metadata": {},
   "outputs": [],
   "source": [
    "# We may even plot the random numbers\n",
    "\n",
    "from matplotlib import pyplot as plt\n",
    "\n",
    "ll = [[myrand() for i in range(100)] for j in range(100)]\n",
    "plt.imshow(ll)"
   ]
  },
  {
   "cell_type": "markdown",
   "id": "12",
   "metadata": {},
   "source": [
    "This random number generator is very simple and is the *sample* implementation in many ANSI C libraries!\n",
    "However, because how the standard was written, this create a lot problems.\n",
    "* The standard only require `RAND_MAX` be at least 32767.\n",
    "  If one want to evulate 1e6 points (which is pretty small, as we will see below), you will actually be evaluating the same 32768 points 30 times each!\n",
    "* Some implementation \"tried\" to imporve the algorithm, e.g., swapping the lower and higher bytes.\n",
    "  But these tricks sometime ruins the generator!\n",
    "* Integrating high-dimension space is an important application of Monte Carlo methods.\n",
    "  However, the congruential generators create correlation in k-space."
   ]
  },
  {
   "cell_type": "markdown",
   "id": "13",
   "metadata": {},
   "source": [
    "When programming in Python, we often take advantage of the built-in random module or NumPy's random subpackage, both of which default to high-quality generators (the Mersenne Twister for Python's default, and similarly robust methods in NumPy).\n",
    "We can seed these generators manually to ensure reproducible research, or we may allow them to seed automatically for convenience.\n",
    "While these generators generally suffice for undergraduate-level simulations, more intricate studies---particularly those involving very large datasets or extremely sensitive measurements---may require advanced or specialized libraries for best results."
   ]
  },
  {
   "cell_type": "markdown",
   "id": "14",
   "metadata": {},
   "source": [
    "### Python's Random Number Library\n",
    "\n",
    "We start by trying python's random number library.\n",
    "It is implemented in a very traditional way, which relies on a global seed and \"procedure\" programming style:"
   ]
  },
  {
   "cell_type": "code",
   "execution_count": null,
   "id": "15",
   "metadata": {},
   "outputs": [],
   "source": [
    "import random as pyr\n",
    "\n",
    "print(pyr)\n",
    "pyr.seed(0)\n",
    "\n",
    "print(pyr.random())           # return a random float in the range [0,1)\n",
    "print(pyr.randrange(100))     # return a random int in the range [0, stop)\n",
    "print(pyr.randint(a=0,b=99))  # return a random int in the range [a, b+1); alias for randrange(a, b+1)"
   ]
  },
  {
   "cell_type": "markdown",
   "id": "16",
   "metadata": {},
   "source": [
    "### Numpy's Random Number Module\n",
    "\n",
    "Next, we  Let's now try numpy's random number module.\n",
    "It can also be used with a global seed.\n",
    "However, for modern applications, it is often better to use object oriented (OO) approach, where the random number generator's state is stored in an object.\n",
    "This allows one to create multiple random number generators in a single application."
   ]
  },
  {
   "cell_type": "code",
   "execution_count": null,
   "id": "17",
   "metadata": {},
   "outputs": [],
   "source": [
    "import numpy as np\n",
    "\n",
    "npr = np.random.default_rng(seed=0)\n",
    "print(npr)\n",
    "\n",
    "print(npr.random())                               # return a random float in the range [0,1)\n",
    "print(npr.integers(low=0,high=99))                # return a random int in the range [low, high)\n",
    "print(npr.integers(low=0,high=99,endpoint=True))  # return a random int in the range [low, high] = [low, high+1) for int"
   ]
  },
  {
   "cell_type": "markdown",
   "id": "18",
   "metadata": {},
   "source": [
    "### JAX's Random Number Module\n",
    "\n",
    "Although numpy's OO approach is already an improvement, it can create ugly bugs for parallel algorithm.\n",
    "Accelerated by GPU, JAX takes a functional programming apporach.\n",
    "The random number generator's state is stored in a \"key\" object.\n",
    "The key is then passed into a jax function to generate random numbers."
   ]
  },
  {
   "cell_type": "code",
   "execution_count": null,
   "id": "19",
   "metadata": {},
   "outputs": [],
   "source": [
    "from jax import random as jxr\n",
    "\n",
    "key = jxr.key(seed=0)\n",
    "print(key)\n",
    "\n",
    "print(jxr.uniform(key))                           # return a random float in the range [0,1)\n",
    "print(jxr.randint(key, (), minval=0, maxval=99))  # return a random int in the range [minval, maxval)"
   ]
  },
  {
   "cell_type": "markdown",
   "id": "20",
   "metadata": {},
   "source": [
    "Note that, unlike `numpy`, the same key always return the same random number:"
   ]
  },
  {
   "cell_type": "code",
   "execution_count": null,
   "id": "21",
   "metadata": {},
   "outputs": [],
   "source": [
    "print(jxr.uniform(key))\n",
    "print(jxr.uniform(key))\n",
    "print(jxr.uniform(key))\n",
    "print(jxr.uniform(key))"
   ]
  },
  {
   "cell_type": "markdown",
   "id": "22",
   "metadata": {},
   "source": [
    "If we need a new random number, we can use `split()` to generate new subkeys:"
   ]
  },
  {
   "cell_type": "code",
   "execution_count": null,
   "id": "23",
   "metadata": {},
   "outputs": [],
   "source": [
    "key, subkey = jxr.split(key)\n",
    "print(key)\n",
    "print(subkey)\n",
    "print(jxr.uniform(subkey))\n",
    "print(jxr.uniform(subkey))"
   ]
  },
  {
   "cell_type": "code",
   "execution_count": null,
   "id": "24",
   "metadata": {},
   "outputs": [],
   "source": [
    "key, subkey = jxr.split(key)\n",
    "print(key)\n",
    "print(subkey)\n",
    "print(jxr.uniform(subkey))\n",
    "print(jxr.uniform(subkey))"
   ]
  },
  {
   "cell_type": "markdown",
   "id": "25",
   "metadata": {},
   "source": [
    "### Array of Random Numbers\n",
    "\n",
    "For both numpy and JAX, it is simple to create an array of random numbers:"
   ]
  },
  {
   "cell_type": "code",
   "execution_count": null,
   "id": "26",
   "metadata": {},
   "outputs": [],
   "source": [
    "ll2 = npr.random(size=(100,100))\n",
    "ll3 = jxr.uniform(key, shape=(100,100))"
   ]
  },
  {
   "cell_type": "code",
   "execution_count": null,
   "id": "27",
   "metadata": {},
   "outputs": [],
   "source": [
    "from matplotlib import pyplot as plt\n",
    "\n",
    "fig, (ax0, ax1, ax2) = plt.subplots(1, 3, figsize=(9,3))\n",
    "ax0.imshow(ll)\n",
    "ax1.imshow(ll2)\n",
    "ax2.imshow(ll3)"
   ]
  },
  {
   "cell_type": "markdown",
   "id": "28",
   "metadata": {},
   "source": [
    "## Drawing Random Numbers from Distributions\n",
    "\n",
    "The random numbers we generated so far, including the ones from our own congruential generator, can be seen as a \"random variable\" draw from a **uniform distribution**."
   ]
  },
  {
   "cell_type": "code",
   "execution_count": null,
   "id": "29",
   "metadata": {},
   "outputs": [],
   "source": [
    "# We may plot the results of these random number generators\n",
    "\n",
    "fig, (ax0, ax1, ax2) = plt.subplots(1, 3, figsize=(9,3))\n",
    "ax0.hist(npr.random(1000))\n",
    "ax1.hist(npr.random(1000))\n",
    "ax2.hist(npr.random(1000))"
   ]
  },
  {
   "cell_type": "markdown",
   "id": "30",
   "metadata": {},
   "source": [
    "However, many physical phenomena and statistical models require samples from specific probability distributions.\n",
    "These range from exponential and Poisson processes in radioactive decay to Maxwell–Boltzmann velocity distributions in statistical mechanics.\n",
    "A variety of sampling or transformation techniques exist to convert uniform random numbers into draws from virtually any target distribution."
   ]
  },
  {
   "cell_type": "markdown",
   "id": "31",
   "metadata": {},
   "source": [
    "### Inverse Transform Method\n",
    "\n",
    "The inverse transform method is a basic technique for generating random numbers drawn from a specified distribution.\n",
    "Suppose we have a continuous random variable $X$ with probability density function $f(x)$ and corresponding cumulative distribution function $F(x)$.\n",
    "The method begins by noting that if $U$ is a uniform random variable on the interval $[0, 1)$, then the random variable $X = F^{-1}(U)$ follows the distribution described by $f(x)$.\n",
    "In other words, the inverse of the CDF effectively maps uniform deviates to the desired target distribution."
   ]
  },
  {
   "cell_type": "markdown",
   "id": "32",
   "metadata": {},
   "source": [
    "To illustrate the procedure, consider the exponential distribution with a rate parameter $\\lambda$.\n",
    "Its probability density function is\n",
    "\\begin{align}\n",
    "f(x) = \\lambda\\,e^{-\\lambda x}, \\quad x \\ge 0,\n",
    "\\end{align}\n",
    "and the cumulative distribution function is\n",
    "\\begin{align}\n",
    "F(x) = 1 - e^{-\\lambda x}.\n",
    "\\end{align}\n",
    "Because $F(x)$ is invertible, the inverse function is\n",
    "\\begin{align}\n",
    "F^{-1}(u) = -\\frac{1}{\\lambda} \\ln\\bigl(1 - u\\bigr).\n",
    "\\end{align}\n",
    "Thus, if $u$ is drawn uniformly from $[0,1)$, then\n",
    "\\begin{align}\n",
    "x = -\\frac{1}{\\lambda}\\,\\ln\\bigl(1 - u\\bigr)\n",
    "\\end{align}\n",
    "is an exponentially distributed random variable with parameter $\\lambda$.\n",
    "One may equivalently use $\\ln(u)$ instead of $\\ln(1 - u)$ since $u$ is uniform over $[0,1)$."
   ]
  },
  {
   "cell_type": "code",
   "execution_count": null,
   "id": "33",
   "metadata": {},
   "outputs": [],
   "source": [
    "def inverse(u, lmbda, N=1000):\n",
    "    return -np.log(1 - u) / lmbda"
   ]
  },
  {
   "cell_type": "code",
   "execution_count": null,
   "id": "34",
   "metadata": {},
   "outputs": [],
   "source": [
    "# Parameters:\n",
    "lmbda = 1.0\n",
    "N     = 10000\n",
    "\n",
    "# Generate samples via our inverse transform function:\n",
    "u = np.random.rand(N)\n",
    "x = inverse(u, lmbda)\n",
    "\n",
    "# Generate samples via NumPy's built-in exponential:\n",
    "x_np = np.random.exponential(scale=1/lmbda, size=N)"
   ]
  },
  {
   "cell_type": "code",
   "execution_count": null,
   "id": "35",
   "metadata": {},
   "outputs": [],
   "source": [
    "# Plot histograms for comparison:\n",
    "X = np.linspace(0, 10)\n",
    "Y = lmbda * np.exp(-lmbda * X)\n",
    "\n",
    "fig, (ax0, ax1) = plt.subplots(1, 2, figsize=(6,3))\n",
    "\n",
    "ax0.hist(x,   bins=100, density=True, alpha=0.6, label='Inverse Transform')\n",
    "ax0.plot(X, Y)\n",
    "ax0.set_title('Inverse Transform Samples')\n",
    "ax0.set_xlabel('x')\n",
    "ax0.set_ylabel('Probability Density')\n",
    "\n",
    "ax1.hist(x_np, bins=100, density=True, alpha=0.6, label='NumPy Exponential')\n",
    "ax1.plot(X, Y)\n",
    "ax1.set_title('NumPy Exponential Samples')\n",
    "ax1.set_xlabel('x')\n",
    "ax1.set_ylabel('Probability Density')\n",
    "\n",
    "fig.tight_layout()"
   ]
  },
  {
   "cell_type": "markdown",
   "id": "36",
   "metadata": {},
   "source": [
    "### Rejection Method\n",
    "\n",
    "Sometimes, we need to sample from a probability distribution whose cumulative distribution function is difficult or impossible to invert analytically.\n",
    "In these cases, the rejection method (also called the acceptance–rejection method) provides a flexible alternative.\n",
    "The key is to find a simple \"proposal\" distribution that we can easily sample from but that encloses the shape of our target distribution.\n",
    "If we sample points under the proposal distribution and then reject those that would exceed the desired probability density, the remaining accepted points follow the intended target distribution."
   ]
  },
  {
   "cell_type": "markdown",
   "id": "37",
   "metadata": {},
   "source": [
    "To set up the rejection method, we need three main ingredients:\n",
    "\n",
    "1. A probability density function $f(x)$ for the target distribution, defined on some interval or possibly $\\mathbb{R}$.\n",
    "2. A proposal distribution $g(x)$ that we can sample from easily (e.g., a uniform or Gaussian), along with a constant $C$ such that\n",
    "   \\begin{align}\n",
    "   f(x) \\le C\\,g(x) \\quad \\text{for all valid }x.\n",
    "   \\end{align}\n",
    "   This inequality ensures the proposal distribution \"covers\" or \"bounds\" the entire shape of $f(x)$.\n",
    "4. A procedure to accept or reject each random draw based on how likely it is to come from $f(x)$."
   ]
  },
  {
   "cell_type": "markdown",
   "id": "38",
   "metadata": {},
   "source": [
    "The algorithm proceeds as follows:\n",
    "1. Generate a random value $X$ according to the proposal distribution $g(x)$.\n",
    "2. Generate a uniform random number $U \\in [0,1)$.\n",
    "3. Accept $X$ if\n",
    "   \\begin{align}\n",
    "   U \\le \\frac{f(X)}{C\\,g(X)},\n",
    "   \\end{align}\n",
    "   otherwise reject $X$ and repeat."
   ]
  }
 ],
 "metadata": {
  "kernelspec": {
   "display_name": "Python 3 (ipykernel)",
   "language": "python",
   "name": "python3"
  },
  "language_info": {
   "codemirror_mode": {
    "name": "ipython",
    "version": 3
   },
   "file_extension": ".py",
   "mimetype": "text/x-python",
   "name": "python",
   "nbconvert_exporter": "python",
   "pygments_lexer": "ipython3",
   "version": "3.13.2"
  }
 },
 "nbformat": 4,
 "nbformat_minor": 5
}
