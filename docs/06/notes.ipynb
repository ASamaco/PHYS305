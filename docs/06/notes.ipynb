{
 "cells": [
  {
   "cell_type": "markdown",
   "id": "0",
   "metadata": {},
   "source": [
    "# Interpolation and Extrapolation\n",
    "\n",
    "This lecture follows closely [Numerical Recipes](https://numerical.recipes/) 2nd Edition in C and 3rd Edition in C++, Chapter 3 \"Interpolation and Extrapolation\"."
   ]
  },
  {
   "cell_type": "markdown",
   "id": "1",
   "metadata": {},
   "source": [
    "## Introduction\n",
    "\n",
    "In scientific computing and machine learning, interpolation and extrapolation are fundamental tools for estimating function values at new data points based on known information.\n",
    "* In machine learning, all standard supervised learning tasks can be viewed as interpolation problems in high-dimensional space. Here, models predict outputs **within the range** of their training data.\n",
    "* However, when attempting to make predictions outside this range, we face significant challenges in making reliable extrapolations.\n",
    "  Extrapolation is a particularly challenging task because models typically lack information  beyond their training data."
   ]
  },
  {
   "cell_type": "markdown",
   "id": "2",
   "metadata": {},
   "source": [
    "### Interpolation Methods\n",
    "\n",
    "Interpolation plays a crucial role in scientific computing and machine learning by estimating function values at new data points based on known information.\n",
    "\n",
    "* Polynomial interpolation is versatile but can exhibit significant oscillations, particularly at the edges of data (Runge's phenomenon).\n",
    "* This can be mitigated by using rational functions, which offer more stable estimates and are better suited to handle asymptotic behavior.\n",
    "* Spline interpolation, especially cubic splines, is valued for its smoothness and continuity up to the second derivative. This makes it effective for applications requiring a smooth fit."
   ]
  },
  {
   "cell_type": "markdown",
   "id": "3",
   "metadata": {},
   "source": [
    "### Challenges with Extrapolation\n",
    "\n",
    "Extrapolation remains a difficult task, yet physics-informed machine learning (PIML) presents a promising avenue.\n",
    "By embedding known physical laws, such as ordinary differential equations (ODEs), into models, PIML enables extrapolation that aligns with fundamental constraints. This allows for meaningful extensions of predictions beyond the observed data range."
   ]
  },
  {
   "cell_type": "markdown",
   "id": "4",
   "metadata": {},
   "source": [
    "### Distinguishing Interpolation and Function Approximation\n",
    "\n",
    "Interpolation and function approximation are related but distinct tasks:\n",
    "\n",
    "* Interpolation estimates values at specified points within a given dataset.\n",
    "* In contrast, function approximation creates a simplified function to replace a more complex one.\n",
    "  This approach can be used to sample additional points as needed.\n",
    "* (See [Numerical Recipes](https://numerical.recipes/) Chapter 5 for function approximation.)"
   ]
  },
  {
   "cell_type": "markdown",
   "id": "5",
   "metadata": {},
   "source": [
    "### Limitations of Interpolation\n",
    "\n",
    "Even the most sophisticated interpolation schemes can fail when faced with pathological functions.\n",
    "For instance, consider a function that behaves smoothly except for a slight singularity at a certain point:\n",
    "\\begin{align}\n",
    "f(x) = 3x^2 + \\frac{1}{\\pi^4}\\ln\\left[(\\pi - x)^2\\right] + 1\n",
    "\\end{align}\n",
    "\n",
    "Interpolation based on values close to but not precisely at that singularity will likely produce an inaccurate result."
   ]
  },
  {
   "cell_type": "code",
   "execution_count": null,
   "id": "6",
   "metadata": {},
   "outputs": [],
   "source": [
    "import numpy as np\n",
    "\n",
    "def f(x):\n",
    "    return 3 * x**2 + np.log((np.pi - x)**2) / np.pi**4 + 1\n",
    "\n",
    "x1 = np.linspace(3.13, 3.16, 3+1)\n",
    "x2 = np.linspace(3.13, 3.16, 30+1)\n",
    "x3 = np.linspace(3.13, 3.16, 300+1)\n",
    "x4 = np.linspace(3.13, 3.16, 3000+1)"
   ]
  },
  {
   "cell_type": "code",
   "execution_count": null,
   "id": "7",
   "metadata": {},
   "outputs": [],
   "source": [
    "from matplotlib import pyplot as plt\n",
    "\n",
    "plt.plot(x4, f(x4),       label='3001 points')\n",
    "plt.plot(x3, f(x3), '--', label='301 points')\n",
    "plt.plot(x2, f(x2), 'o:', label='31 points')\n",
    "plt.plot(x1, f(x1), 'o-', label='4 points')\n",
    "plt.legend()"
   ]
  },
  {
   "cell_type": "markdown",
   "id": "8",
   "metadata": {},
   "source": [
    "These cases highlight the importance of having some error estimates in interpolation routines."
   ]
  },
  {
   "cell_type": "markdown",
   "id": "9",
   "metadata": {},
   "source": [
    "## Preliminaries: Searching an Ordered Table\n",
    "\n",
    "In many interpolation tasks, especially with irregularly sampled data, the process begins with a critical first step: identifying the nearest points surrounding the target interpolation value.\n",
    "\n",
    "Unlike regularly spaced data on a uniform grid, where adjacent points are easy to locate by simple indexing, randomly sampled or unevenly spaced data requires additional steps to find nearby values.\n",
    "This searching step can be as computationally intensive as the interpolation itself, so efficient search methods are essential to maintain overall performance.\n",
    "\n",
    "In Numerical Recipes, two primary methods are presented for this purpose: bisection and hunting.\n",
    "Each is suited to different scenarios, depending on whether interpolation points tend to be close to one another or scattered randomly."
   ]
  },
  {
   "cell_type": "markdown",
   "id": "10",
   "metadata": {},
   "source": [
    "### Linear Search\n",
    "\n",
    "As a reference, we will implement a linear search:"
   ]
  },
  {
   "cell_type": "code",
   "execution_count": null,
   "id": "11",
   "metadata": {},
   "outputs": [],
   "source": [
    "def linear(xs, target):\n",
    "    for l in range(len(xs)): # purposely use for-loop to avoid C optimization in numpy\n",
    "        if xs[l] >= target:\n",
    "            return l-1"
   ]
  },
  {
   "cell_type": "code",
   "execution_count": null,
   "id": "12",
   "metadata": {},
   "outputs": [],
   "source": [
    "import numpy as np\n",
    "\n",
    "for _ in range(10):\n",
    "    xs = np.sort(np.random.uniform(0, 100, 10))\n",
    "    v  = np.random.uniform(min(xs), max(xs))\n",
    "    i  = linear(xs, v)\n",
    "    print(f'{xs[i]} <= {v} < {xs[i+1]}')"
   ]
  },
  {
   "cell_type": "markdown",
   "id": "13",
   "metadata": {},
   "source": [
    "### Bisection Search\n",
    "\n",
    "Bisection search is a reliable method that works by dividing the search interval in half with each step until the target value's position is found.\n",
    "Given a sorted array of $N$ data points, this method requires approximately $\\log_2(N)$ steps to locate the closest point, making it efficient even for large datasets.\n",
    "Bisection is particularly useful when interpolation requests are uncorrelated—meaning there is no pattern in the sequence of target points that could be exploited for faster searching."
   ]
  },
  {
   "cell_type": "code",
   "execution_count": null,
   "id": "14",
   "metadata": {},
   "outputs": [],
   "source": [
    "def bisection(xs, target):\n",
    "    l, h = 0, len(xs) - 1\n",
    "    while h - l > 1:\n",
    "        m = (h + l) // 2\n",
    "        if target >= xs[m]:\n",
    "            l = m\n",
    "        else:\n",
    "            h = m\n",
    "    return l # returns index of the closest value less than or equal to target"
   ]
  },
  {
   "cell_type": "markdown",
   "id": "15",
   "metadata": {},
   "source": [
    "The above function efficiently narrows down the interval to locate the index of the nearest value.\n",
    "\n",
    "We can perform some tests:"
   ]
  },
  {
   "cell_type": "code",
   "execution_count": null,
   "id": "16",
   "metadata": {},
   "outputs": [],
   "source": [
    "for _ in range(10):\n",
    "    xs = np.sort(np.random.uniform(0, 100, 10))\n",
    "    v  = np.random.uniform(min(xs), max(xs))\n",
    "    i  = bisection(xs, v)\n",
    "    print(f'{xs[i]} <= {v} < {xs[i+1]}')"
   ]
  },
  {
   "cell_type": "markdown",
   "id": "17",
   "metadata": {},
   "source": [
    "### Hunting Method\n",
    "\n",
    "For cases where interpolation points are close together in sequence---common in applications with gradually changing target values---the hunting method offers faster performance than bisection from scratch.\n",
    "Hunting takes advantage of the idea that, if the previous interpolation point is nearby, the search can start close to the last found position and \"hunt\" outward in expanding steps to bracket the target value.\n",
    "Once the bracket is located, the search is refined using a quick bisection.\n",
    "\n",
    "The hunting method is beneficial for correlated data requests, where successive target values are close, as it can skip large portions of the data and converge faster than starting from scratch each time."
   ]
  },
  {
   "cell_type": "code",
   "execution_count": null,
   "id": "18",
   "metadata": {},
   "outputs": [],
   "source": [
    "def hunt(xs, target, i_last):\n",
    "    n = len(xs)\n",
    "    assert 0 <= i_last < n - 1\n",
    "\n",
    "    # Determine the search direction based on the target value\n",
    "    if target >= xs[i_last]:\n",
    "        l, h, step = i_last, min(n-1, i_last+1), 1\n",
    "        while h < n - 1 and target > xs[h]:\n",
    "            l, h = h, min(n-1, h+step)\n",
    "            step *= 2\n",
    "    else:\n",
    "        l, h, step = max(0, i_last-1), i_last, 1\n",
    "        while l > 0 and target < xs[l]:\n",
    "            l, h = max(0, l-step), l\n",
    "            step *= 2\n",
    "\n",
    "    # Refine with bisection within the bracketed range\n",
    "    return bisection(xs[l:h+1], target) + l"
   ]
  },
  {
   "cell_type": "code",
   "execution_count": null,
   "id": "19",
   "metadata": {},
   "outputs": [],
   "source": [
    "i = 5\n",
    "for _ in range(10):\n",
    "    xs = np.sort(np.random.uniform(0, 100, 10))\n",
    "    v  = np.random.uniform(min(xs), max(xs))\n",
    "    i  = hunt(xs, v, i)\n",
    "    print(f'{xs[i]} <= {v} < {xs[i+1]}')"
   ]
  },
  {
   "cell_type": "markdown",
   "id": "20",
   "metadata": {},
   "source": [
    "### Linear Interpolation Using the Hunting Method\n",
    "\n",
    "Once the nearest position is identified, interpolation proceeds with the closest data points.\n",
    "Here, we implement a simple linear interpolation using the hunting method to locate the starting position, then use it to calculate the interpolated value."
   ]
  },
  {
   "cell_type": "code",
   "execution_count": null,
   "id": "21",
   "metadata": {},
   "outputs": [],
   "source": [
    "class Interpolator:\n",
    "    def __init__(self, xs, ys):\n",
    "        assert len(xs) == len(ys)\n",
    "        self.xs, self.ys = xs, ys\n",
    "        self.i_last = len(xs)//2\n",
    "\n",
    "    def __call__(self, target, search_method='hunt'):\n",
    "        if search_method == 'hunt':\n",
    "            i = hunt(self.xs, target, self.i_last)\n",
    "        elif search_method == 'bisection':\n",
    "            i = bisection(self.xs, target)\n",
    "        else:\n",
    "            i = linear(self.xs, target)\n",
    "        self.i_last = i  # Update last position for future hunts\n",
    "\n",
    "        # Linear interpolation using the two nearest points\n",
    "        x0, x1 = self.xs[i], self.xs[i + 1]\n",
    "        y0, y1 = self.ys[i], self.ys[i + 1]\n",
    "\n",
    "        return (y1 - y0) * (target - x0) / (x1 - x0) + y0"
   ]
  },
  {
   "cell_type": "code",
   "execution_count": null,
   "id": "22",
   "metadata": {},
   "outputs": [],
   "source": [
    "def f(x):\n",
    "    return np.exp(-0.5 * x * x)\n",
    "\n",
    "Xs = np.sort(np.random.uniform(-5, 5, 20))\n",
    "Ys = f(Xs)\n",
    "\n",
    "fi = Interpolator(Xs, Ys)"
   ]
  },
  {
   "cell_type": "code",
   "execution_count": null,
   "id": "23",
   "metadata": {},
   "outputs": [],
   "source": [
    "xs = np.linspace(min(Xs), max(Xs), 100)\n",
    "ys = np.array([fi(x) for x in xs])\n",
    "\n",
    "plt.plot(xs, ys, '.-', label='Interpolated points')\n",
    "plt.plot(Xs, Ys, 'o',  label='Sampling data')\n",
    "plt.legend()"
   ]
  },
  {
   "cell_type": "markdown",
   "id": "24",
   "metadata": {},
   "source": [
    "Let's test if our claim in terms of performance works in real life."
   ]
  },
  {
   "cell_type": "code",
   "execution_count": null,
   "id": "25",
   "metadata": {},
   "outputs": [],
   "source": [
    "Xs = np.sort(np.random.uniform(-5, 5, 100))\n",
    "Ys = f(Xs)\n",
    "fi = Interpolator(Xs, Ys)\n",
    "\n",
    "xs = np.linspace(min(Xs), max(Xs), 10000)"
   ]
  },
  {
   "cell_type": "code",
   "execution_count": null,
   "id": "26",
   "metadata": {},
   "outputs": [],
   "source": [
    "%timeit ys = np.array([fi(x, search_method='linear') for x in xs])"
   ]
  },
  {
   "cell_type": "code",
   "execution_count": null,
   "id": "27",
   "metadata": {},
   "outputs": [],
   "source": [
    "%timeit ys = np.array([fi(x, search_method='bisection') for x in xs])"
   ]
  },
  {
   "cell_type": "code",
   "execution_count": null,
   "id": "28",
   "metadata": {},
   "outputs": [],
   "source": [
    "%timeit ys = np.array([fi(x, search_method='hunt') for x in xs])"
   ]
  },
  {
   "cell_type": "markdown",
   "id": "29",
   "metadata": {},
   "source": [
    "## Polynomial Interpolation and Extrapolation\n",
    "\n",
    "Given $M$ data points $(x_0, y_0), (x_1, y_1), \\dots, (x_{M-1}, y_{M_1})$, there exists a unique polynomial of degree $M-1$ that pass through all $M$ points exactly."
   ]
  },
  {
   "cell_type": "markdown",
   "id": "30",
   "metadata": {},
   "source": [
    "### Lagrange's formula\n",
    "\n",
    "This polynomial is given by Lagrange's classical formula,\n",
    "\\begin{align}\n",
    "P_{M-1}(x)\n",
    "&= \\frac{(x-x_1)(x-x_2)\\dots(x-x_{M-1})}{(x_0-x_1)(x_0-x_2)\\dots(x_0-x_{M-1})} y_0 \\\\\n",
    "&+ \\frac{(x-x_0)(x-x_2)\\dots(x-x_{M-1})}{(x_1-x_0)(x_1-x_2)\\dots(x_1-x_{M-1})} y_1 + \\dots \\\\\n",
    "&+ \\frac{(x-x_0)(x-x_2)\\dots(x-x_{M-2})}{(x_{M-1}-x_0)(x_{M-1}-x_1)\\dots(x_{M-1}-x_{M-2})} y_{M-1}\n",
    "\\end{align}\n",
    "Using summation and product notations, one may rewrite Lagrange's formula as\n",
    "\\begin{align}\n",
    "P_{M-1}(x)\n",
    "= \\sum_{m=0}^{M-1} \\frac{\\prod_{n=0,n\\ne m}^{M-1}(x-x_n)}{\\prod_{n=0,n\\ne m}^{M-1}(x_m-x_n)} y_m\n",
    "\\end{align}\n",
    "Substituting $x = x_{m'}$ for $0 \\le m; < M$, it is straightforward to show\n",
    "\\begin{align}\n",
    "P_{M-1}(x_{m'})\n",
    "= \\sum_{m=0}^{M-1} \\delta_{mm'} y_m\n",
    "\\end{align}\n",
    "and hence $P_{M-1}(x)$ does pass through all data points."
   ]
  },
  {
   "cell_type": "code",
   "execution_count": null,
   "id": "31",
   "metadata": {},
   "outputs": [],
   "source": []
  }
 ],
 "metadata": {
  "kernelspec": {
   "display_name": "Python 3 (ipykernel)",
   "language": "python",
   "name": "python3"
  },
  "language_info": {
   "codemirror_mode": {
    "name": "ipython",
    "version": 3
   },
   "file_extension": ".py",
   "mimetype": "text/x-python",
   "name": "python",
   "nbconvert_exporter": "python",
   "pygments_lexer": "ipython3",
   "version": "3.12.6"
  }
 },
 "nbformat": 4,
 "nbformat_minor": 5
}
