{
 "cells": [
  {
   "cell_type": "markdown",
   "id": "0",
   "metadata": {},
   "source": [
    "# Numerical Linear Algebra"
   ]
  },
  {
   "cell_type": "markdown",
   "id": "1",
   "metadata": {},
   "source": [
    "## Fundamental Roles\n",
    "\n",
    "Linear algebra is a foundation in modern mathematics.\n",
    "It enables multidimensional calculus, multivariate statistics, differential geometry, functional analysis, control theory, and more.\n",
    "It enables systematic and predictable problem-solving.\n",
    "It is fair to say we understand most of the linear mathemtics.\n",
    "When faced with non-linear problems, it is common to transform them into linear approximations for analysis and solution.\n",
    "\n",
    "Numerical linear algebra further enhances this power, extending it to computational physics.\n",
    "It enables solving partial differential equations (PDEs), optimization problems, eigenvalue analyses, and more.\n",
    "By bridging theory and computation, numerical linear algebra helps solving some of the most challenging problems in physics and engineering."
   ]
  },
  {
   "cell_type": "markdown",
   "id": "2",
   "metadata": {},
   "source": [
    "### Motivations from Physics\n",
    "\n",
    "**Normal Modes:**\n",
    "Normal modes describe vibration patterns in systems near equilibrium.\n",
    "It is a generalized eigenvalue problem.\n",
    "Applications include identifying resonance frequencies in materials, analyzing sound in acoustics, and studying plasma waves.\n",
    "Linear algebra's role in solving eigenvalue problems is central to understanding these phenomena."
   ]
  },
  {
   "cell_type": "markdown",
   "id": "3",
   "metadata": {},
   "source": [
    "**Quantum Mechanics:**\n",
    "Quantum mechanics is linear, governed by the Schrödinger equation.\n",
    "This linearity allows quantum systems to be expressed in terms of vectors and matrices, enabling numerical approaches.\n",
    "Applications include calculating electronic band structures, solving molecular orbital equations, and diagonalizing Hamiltonians in spin systems.\n",
    "Efficient algorithms like Lanczos and Davidson extract eigenvalues and eigenvectors from large matrices are essential for studying quantum systems."
   ]
  },
  {
   "cell_type": "markdown",
   "id": "4",
   "metadata": {},
   "source": [
    "**Discretized PDEs:**\n",
    "PDEs, such as the Poisson and heat equations, describe continuous physical systems.\n",
    "Discretization transforms them into large (sparse) linear systems, enabling efficient iterative solvers like Conjugate Gradient (CG) and GMRES.\n",
    "These methods apply to problems in electrostatics, heat conduction, fluid flow, and structural mechanics.\n",
    "Even nonlinear PDEs often require solving linear subproblems iteratively, highlighting the importance of linear algebra in computational physics."
   ]
  },
  {
   "cell_type": "markdown",
   "id": "5",
   "metadata": {},
   "source": [
    "**Linearization of Nonlinear Problems:**\n",
    "Nonlinear problems, like turbulence or combustion, are approximated through linearization.\n",
    "Applications include solving non-linear PDEs, perturbation theory, and computational fluid dynamics.\n",
    "Nonlinear problems often reduce to sequences of linear solves, highlighting the foundational role of linear algebra."
   ]
  },
  {
   "cell_type": "markdown",
   "id": "6",
   "metadata": {},
   "source": [
    "### Motivations from Computation\n",
    "\n",
    "**Large-Scale Data**\n",
    "Physics experiments and machine learning (ML) tasks both generate large datasets, such as images, sensor readings, or high-dimensional feature vectors.\n",
    "Matrix decompositions—including QR, Singular Value Decomposition (SVD), and Principal Component Analysis (PCA)—are critical tools for analyzing and compressing these datasets.\n",
    "PCA, in particular, is widely used for dimensionality reduction, feature extraction, noise reduction, and visualization in high-dimensional spaces.\n",
    "Similarly, in physics, these techniques are applied to identify dominant modes in fluid flow or material vibrations.\n",
    "This shared reliance on linear algebra underscores its cross-disciplinary importance in processing complex data."
   ]
  },
  {
   "cell_type": "markdown",
   "id": "7",
   "metadata": {},
   "source": [
    "**Neural Networks**\n",
    "Neural networks rely heavily on linear algebra for their core operations.\n",
    "Forward and backpropagation, essential processes in deep learning, primarily involve matrix multiplication between layer weight matrices and input or activation vectors.\n",
    "Training large neural networks involves repeated and massive matrix-vector and matrix-matrix operations.\n",
    "Efficient linear algebra routines are therefore vital to the success of modern ML systems."
   ]
  },
  {
   "cell_type": "markdown",
   "id": "8",
   "metadata": {},
   "source": [
    "**Hardware Accelerators**\n",
    "Efficient linear algebra implementations are critical for leveraging modern hardware, such as GPUs and TPUs, which are optimized for matrix operations.\n",
    "Vectorized computations not only accelerate ML tasks but also ensure scalability for large datasets and complex models."
   ]
  },
  {
   "cell_type": "markdown",
   "id": "9",
   "metadata": {},
   "source": [
    "`````{note}\n",
    "```{epigraph}\n",
    "If Everything Were Linear, We Wouldn't Need Computers.\n",
    "```\n",
    "\n",
    "A popular statement suggests that in a purely linear world, everything would be easy to solve analytically.\n",
    "However, this is an oversimplification.\n",
    "Even perfectly linear problems can pose significant computational challenges due to two key factors.\n",
    "\n",
    "* First, high dimensionality makes solving linear systems computationally intensive.\n",
    "  For instance, systems with millions of unknowns arise in large PDE grids or massive machine learning models.\n",
    "  Processing such large-scale data requires significant computational power, regardless of linearity.\n",
    "\n",
    "* Second, real-world computations face constraints from finite precision.\n",
    "  Hardware limitations, such as floating-point arithmetic, introduce numerical stability and conditioning challenges, even in linear systems.\n",
    "  Addressing these issues requires robust algorithms to ensure accurate and efficient solutions.\n",
    "`````"
   ]
  },
  {
   "cell_type": "markdown",
   "id": "10",
   "metadata": {},
   "source": [
    "### Importance of Numerical Linear Algebra\n",
    "\n",
    "**Floating-Point Arithmetic and Rounding Errors:**\n",
    "As covered in last chapter, numerical analysis addresses the limitations of finite precision in computational hardware.\n",
    "Small rounding errors, particularly in ill-conditioned systems, can amplify significantly, leading to unreliable results.\n",
    "Techniques like pivoting in Gaussian elimination or employing stable iterative algorithms are crucial for ensuring numerical stability."
   ]
  },
  {
   "cell_type": "markdown",
   "id": "11",
   "metadata": {},
   "source": [
    "**Condition Numbers and Sensitivity:**\n",
    "Ill-conditioned matrices amplify small input perturbations, making solutions highly sensitive to errors.\n",
    "This issue is prevalent in physics problems, such as nearly degenerate modes, and in machine learning tasks, like poorly scaled data that slows network training.\n",
    "Understanding and managing condition numbers is essential for robust computations."
   ]
  },
  {
   "cell_type": "markdown",
   "id": "12",
   "metadata": {},
   "source": [
    "**Solver Complexity and Algorithm Selection:**\n",
    "The choice of solver depends on the problem scale and structure.\n",
    "Direct solvers, such as Gaussian elimination or LU decomposition, scale as $\\mathcal{O}(n^3)$ for dense systems, which can be infeasible for large $n$.\n",
    "Iterative methods, like Jacobi, Conjugate Gradient, and GMRES, exploit matrix sparsity to handle massive systems efficiently.\n",
    "Preconditioning further improves convergence, benefiting both physics simulations and ML optimizations."
   ]
  },
  {
   "cell_type": "markdown",
   "id": "13",
   "metadata": {},
   "source": [
    "**Leveraging Established Theory:**\n",
    "Linear algebra is a deeply studied field, and once a problem is expressed as a matrix, powerful theoretical and numerical tools can be applied.\n",
    "Techniques like eigen-decomposition and SVD provide consistent and reliable approaches across domains, benefiting applications from quantum mechanics to deep learning.\n",
    "This universality makes numerical linear algebra indispensable in modern computational science."
   ]
  }
 ],
 "metadata": {
  "kernelspec": {
   "display_name": "Python 3 (ipykernel)",
   "language": "python",
   "name": "python3"
  },
  "language_info": {
   "codemirror_mode": {
    "name": "ipython",
    "version": 3
   },
   "file_extension": ".py",
   "mimetype": "text/x-python",
   "name": "python",
   "nbconvert_exporter": "python",
   "pygments_lexer": "ipython3",
   "version": "3.12.6"
  }
 },
 "nbformat": 4,
 "nbformat_minor": 5
}
