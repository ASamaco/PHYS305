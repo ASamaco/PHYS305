{
 "cells": [
  {
   "cell_type": "markdown",
   "id": "0",
   "metadata": {},
   "source": [
    "# Numerical Linear Algebra"
   ]
  },
  {
   "cell_type": "markdown",
   "id": "1",
   "metadata": {},
   "source": [
    "## Fundamental Roles of Linear Algebra in Computational Physics\n",
    "\n",
    "Linear algebra is a foundation in modern mathematics.\n",
    "It enables multidimensional calculus, multivariate statistics, differential geometry, functional analysis, control theory, and more.\n",
    "It enables systematic and predictable problem-solving.\n",
    "It is fair to say we understand most of the linear mathemtics.\n",
    "When faced with non-linear problems, it is common to transform them into linear approximations for analysis and solution.\n",
    "\n",
    "Numerical linear algebra further enhances this power, extending it to computational physics.\n",
    "It enables solving partial differential equations (PDEs), optimization problems, eigenvalue analyses, and more.\n",
    "By bridging theory and computation, numerical linear algebra helps solving some of the most challenging problems in physics and engineering."
   ]
  },
  {
   "cell_type": "markdown",
   "id": "2",
   "metadata": {},
   "source": [
    "### Normal Modes\n",
    "\n",
    "Normal modes describe vibration patterns in systems near equilibrium.\n",
    "It is a generalized eigenvalue problem.\n",
    "Applications include identifying resonance frequencies in materials, analyzing sound in acoustics, and studying plasma waves.\n",
    "Linear algebra's role in solving eigenvalue problems is central to understanding these phenomena."
   ]
  },
  {
   "cell_type": "markdown",
   "id": "3",
   "metadata": {},
   "source": [
    "### Quantum Mechanics\n",
    "\n",
    "Quantum mechanics is linear, governed by the Schrödinger equation.\n",
    "This linearity allows quantum systems to be expressed in terms of vectors and matrices, enabling numerical approaches.\n",
    "Applications include calculating electronic band structures, solving molecular orbital equations, and diagonalizing Hamiltonians in spin systems.\n",
    "Efficient algorithms like Lanczos and Davidson extract eigenvalues and eigenvectors from large matrices are essential for studying quantum systems."
   ]
  },
  {
   "cell_type": "markdown",
   "id": "4",
   "metadata": {},
   "source": [
    "### Discretized PDEs\n",
    "\n",
    "PDEs, such as the Poisson and heat equations, describe continuous physical systems.\n",
    "Discretization transforms them into large (sparse) linear systems, enabling efficient iterative solvers like Conjugate Gradient (CG) and GMRES.\n",
    "These methods apply to problems in electrostatics, heat conduction, fluid flow, and structural mechanics.\n",
    "Even nonlinear PDEs often require solving linear subproblems iteratively, highlighting the importance of linear algebra in computational physics."
   ]
  },
  {
   "cell_type": "markdown",
   "id": "5",
   "metadata": {},
   "source": [
    "### Linearization of Nonlinear Problems\n",
    "\n",
    "Nonlinear problems, like turbulence or combustion, are approximated through linearization.\n",
    "Applications include solving non-linear PDEs, perturbation theory, and computational fluid dynamics.\n",
    "Nonlinear problems often reduce to sequences of linear solves, highlighting the foundational role of linear algebra."
   ]
  }
 ],
 "metadata": {
  "kernelspec": {
   "display_name": "Python 3 (ipykernel)",
   "language": "python",
   "name": "python3"
  },
  "language_info": {
   "codemirror_mode": {
    "name": "ipython",
    "version": 3
   },
   "file_extension": ".py",
   "mimetype": "text/x-python",
   "name": "python",
   "nbconvert_exporter": "python",
   "pygments_lexer": "ipython3",
   "version": "3.12.6"
  }
 },
 "nbformat": 4,
 "nbformat_minor": 5
}
