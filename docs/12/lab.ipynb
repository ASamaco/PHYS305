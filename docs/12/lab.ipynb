{
 "cells": [
  {
   "cell_type": "markdown",
   "id": "0",
   "metadata": {},
   "source": [
    "# Bayesian Statistics Lab"
   ]
  },
  {
   "cell_type": "markdown",
   "id": "1",
   "metadata": {},
   "source": [
    "In this hands-on lab, we continue our demonstration of \"estimating the mass of a new fundamental particle\".\n",
    "We will generate multiple experiments, each giving a noisy measurement of the particle's mass, and sequentially update our posterior distribution after each experiment.\n",
    "We will then discuss what we should do when new theoretical prior appears."
   ]
  },
  {
   "cell_type": "markdown",
   "id": "2",
   "metadata": {},
   "source": [
    "## Physical Setup (Brief Recap)\n",
    "\n",
    "Let's update some notation from the notes.\n",
    "\n",
    "We have a particle of **true mass** $m_\\text{true}$, measured in TeV.\n",
    "Each experiment yields an observed mass $m_\\text{obs}$ with Gaussian noise:\n",
    "\\begin{align}\n",
    "m_\\text{obs} \\;\\sim\\; \\mathcal{N}(m_\\text{true},\\sigma_\\text{expr}^2).\n",
    "\\end{align}\n",
    "Here, $\\sigma_\\text{expr}$ is the detector resolution or statistical uncertainty."
   ]
  },
  {
   "cell_type": "markdown",
   "id": "3",
   "metadata": {},
   "source": [
    "We know that $m_\\text{true}$ lies in some range $[2,5]$ TeV---our *initial theory* suggests it cannot be outside this window.\n",
    "Hence, our **initial prior**:\n",
    "\\begin{align}\n",
    "p(m_\\text{true}) =\n",
    "\\begin{cases}\n",
    "\\frac{1}{5-2}, & 2 \\le \\theta \\le 5,\\\\\n",
    "0, & \\text{otherwise}.\n",
    "\\end{cases}\n",
    "\\end{align}"
   ]
  },
  {
   "cell_type": "markdown",
   "id": "4",
   "metadata": {
    "jp-MarkdownHeadingCollapsed": true
   },
   "source": [
    "Each measurement modifies our belief (the prior) into a **posterior** via Bayes' Theorem:\n",
    "\\begin{align}\n",
    "p(m_\\text{true} \\mid m_\\text{obs}) \\propto p(m_\\text{obs} \\mid m_\\text{true})\\,p(m_\\text{true}).\n",
    "\\end{align}\n",
    "\n",
    "Here, the **likelihood** $p(m_\\text{obs} \\mid m_\\text{true})$ is given by the Gaussian formula:\n",
    "\\begin{align}\n",
    "p(m_\\text{obs} \\mid \\theta) =\n",
    "\\frac{1}{\\sqrt{2\\pi}\\sigma_\\text{expr}}\\exp\\left[-\\frac{(m_\\text{obs} - m_\\text{true})^2}{2\\sigma_\\text{expr}^2}\\right].\n",
    "\\end{align}"
   ]
  },
  {
   "cell_type": "markdown",
   "id": "5",
   "metadata": {},
   "source": [
    "## Single Experiment Code (Grid Approximation)\n",
    "\n",
    "Below is a quick code snippet that:\n",
    "1. Defines a **grid** over $m\\in[2,5]$.\n",
    "2. Multiplies the prior by the Gaussian likelihood for an observed mass $m_\\text{obs}$.\n",
    "3. Normalizes the result to get the posterior."
   ]
  },
  {
   "cell_type": "code",
   "execution_count": null,
   "id": "6",
   "metadata": {},
   "outputs": [],
   "source": [
    "import numpy as np\n",
    "import matplotlib.pyplot as plt"
   ]
  },
  {
   "cell_type": "code",
   "execution_count": null,
   "id": "7",
   "metadata": {},
   "outputs": [],
   "source": [
    "# Suppose this is the true mass\n",
    "m_true = 3.6"
   ]
  },
  {
   "cell_type": "code",
   "execution_count": null,
   "id": "8",
   "metadata": {},
   "outputs": [],
   "source": [
    "# Let's pick also a detector resolution\n",
    "sigma_expr = 1.0"
   ]
  },
  {
   "cell_type": "code",
   "execution_count": null,
   "id": "9",
   "metadata": {},
   "outputs": [],
   "source": [
    "# Suppose we have a single measurement\n",
    "m_obs = np.random.normal(loc=m_true, scale=sigma_expr)\n",
    "\n",
    "print(m_obs)"
   ]
  },
  {
   "cell_type": "code",
   "execution_count": null,
   "id": "10",
   "metadata": {},
   "outputs": [],
   "source": [
    "m_min, m_max = 2.0, 5.0\n",
    "n_grid = 2000\n",
    "ms     = np.linspace(m_min, m_max, n_grid)\n",
    "\n",
    "def initial_prior(ms):\n",
    "    # Uniform in [2,5], zero outside\n",
    "    return np.where((ms >= m_min) & (ms <= m_max), 1.0/(m_max-m_min), 0.0)"
   ]
  },
  {
   "cell_type": "code",
   "execution_count": null,
   "id": "11",
   "metadata": {},
   "outputs": [],
   "source": [
    "def likelihood(m_obs, ms, sigma_expr):\n",
    "    # Gaussian formula\n",
    "    norm = 1.0 / (np.sqrt(2*np.pi)*sigma_expr)\n",
    "    return norm * np.exp(-0.5*((m_obs - ms)/sigma_expr)**2)"
   ]
  },
  {
   "cell_type": "code",
   "execution_count": null,
   "id": "12",
   "metadata": {},
   "outputs": [],
   "source": [
    "# Compute prior\n",
    "prior = initial_prior(ms)\n",
    "\n",
    "# Compute likelihood\n",
    "like = likelihood(m_obs, ms, sigma_expr)"
   ]
  },
  {
   "cell_type": "code",
   "execution_count": null,
   "id": "13",
   "metadata": {},
   "outputs": [],
   "source": [
    "# Posterior ~ prior * likelihood (unnormalized)\n",
    "unnorm_post = prior * like\n",
    "post = unnorm_post / np.trapezoid(unnorm_post, ms)"
   ]
  },
  {
   "cell_type": "code",
   "execution_count": null,
   "id": "14",
   "metadata": {},
   "outputs": [],
   "source": [
    "plt.plot(ms, post, 'k', label=\"Posterior (1 experiment)\")\n",
    "plt.title(\"Posterior after a single measurement\")\n",
    "plt.xlabel(\"Mass (TeV)\")\n",
    "plt.ylabel(\"Probability Density\")\n",
    "plt.legend()"
   ]
  }
 ],
 "metadata": {
  "kernelspec": {
   "display_name": "Python 3 (ipykernel)",
   "language": "python",
   "name": "python3"
  },
  "language_info": {
   "codemirror_mode": {
    "name": "ipython",
    "version": 3
   },
   "file_extension": ".py",
   "mimetype": "text/x-python",
   "name": "python",
   "nbconvert_exporter": "python",
   "pygments_lexer": "ipython3",
   "version": "3.12.6"
  }
 },
 "nbformat": 4,
 "nbformat_minor": 5
}
