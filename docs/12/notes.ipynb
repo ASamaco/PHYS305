{
 "cells": [
  {
   "cell_type": "markdown",
   "id": "0",
   "metadata": {},
   "source": [
    "# Data Modeling II: Bayesian Statistics"
   ]
  },
  {
   "cell_type": "markdown",
   "id": "1",
   "metadata": {},
   "source": [
    "Bayesian statistics systematically combines our prior knowledge about a situation with new data to refine what we believe is true.\n",
    "In countless real-world scenarios---ranging from medical diagnostics to fundamental physics experiments---information we already have (like the rarity of a disease or theoretical constraints on a physical parameter) can significantly shape how we interpret fresh evidence.\n",
    "By framing unknowns as probability distributions, Bayesian methods provide a coherent framework for updating those distributions whenever new observations appear, yielding a posterior that reflects all evidence, old and new.\n",
    "This unifying perspective makes it possible to quantify uncertainties in a transparent way, avoid common logical pitfalls, and naturally propagate errors to any derived quantities of interest."
   ]
  },
  {
   "cell_type": "markdown",
   "id": "2",
   "metadata": {},
   "source": [
    "## Medical Test \"Paradox\""
   ]
  },
  {
   "cell_type": "markdown",
   "id": "3",
   "metadata": {},
   "source": [
    "The medical test paradox occurs when a diagnostic test is described as highly accurate, yet a person who tests positive for a rare disease ends up with a much lower chance of actually having it.\n",
    "This seemingly contradiction highlights the importance of prior knowledge or base rates.\n",
    "\n",
    "Consider a disease that affects only 1% of the population.\n",
    "Imagine a test that has:\n",
    "* 99% sensitivity: if you **do** have the disease, it flags you positive 99% of the time.\n",
    "* 99% specificity: if you **do not** have the disease, it correctly flags you negative 99% of the time.\n",
    "\n",
    "Many people assume that a \"99% accurate\" test implies a 99% chance of having the disease if you test positive.\n",
    "We will see that is not necessarily true when the disease is rare."
   ]
  },
  {
   "cell_type": "markdown",
   "id": "4",
   "metadata": {},
   "source": [
    "### A Simple Counting Argument\n",
    "\n",
    "Suppose we have 10,000 people.\n",
    "About 100 of them are diseased (1%).\n",
    "The remaining 9,900 are healthy.  \n",
    "\n",
    "Of the 100 diseased people, 99 will test positive (true positives).\n",
    "Of the 9,900 healthy people, 1% will falsely test positive (99 people).\n",
    "We end up with a total of 198 positive results: 99 true positives plus 99 false positives.\n",
    "\n",
    "Hence, only half of these positives (99 out of 198) are truly diseased.\n",
    "This implies a 50% chance of actually having the disease, which is far lower than 99%."
   ]
  },
  {
   "cell_type": "markdown",
   "id": "5",
   "metadata": {},
   "source": [
    "### Why This Happens\n",
    "\n",
    "When a condition is rare, most people do not have it.\n",
    "A small fraction of a large healthy group (the 1% false-positive rate applied to 9,900 healthy people) can match or exceed the positives from the much smaller diseased group.\n",
    "his is a direct consequence of prior probability: we have to weigh how common the disease is before we interpret a new test result."
   ]
  },
  {
   "cell_type": "markdown",
   "id": "6",
   "metadata": {},
   "source": [
    "## Introducing Bayes’ Theorem\n",
    "\n",
    "The medical test paradox illustrates a gap between \"test accuracy\" and \"post-test probability\" when the condition is rare.\n",
    "We observed that even a 99%-accurate test can yield only a 50% chance of actually having the disease if the prevalence is 1%.\n",
    "This puzzle arises because many individuals mistakenly assume that the **test's accuracy** alone determines the **chance** of being diseased after a positive result, whereas the **prior prevalence** also plays a critical role."
   ]
  },
  {
   "cell_type": "markdown",
   "id": "7",
   "metadata": {},
   "source": [
    "Bayes' Theorem provides a mathematical statement that merges prior information about how common a disease is (the *prevalence*) with the evidence from a test result (the *likelihood*).\n",
    "If we let $D$ represent the event that a person has the disease, and $T^+$ represent a positive test result, then Bayes' Theorem states:\n",
    "\\begin{align}\n",
    "P(D \\mid T^+) = \\frac{P(T^+ \\mid D)\\; P(D)}{P(T^+)}\n",
    "\\end{align}\n",
    "where \n",
    "1. $P(D)$ is the *prior probability* of having the disease, i.e., the prevalence (1%).\n",
    "2. $P(T^+ \\mid D)$ is the test's *sensitivity*: the probability of a positive test given that the person is actually sick (99%).\n",
    "3. $P(T^+)$ is the total probability of a positive test, which includes:\n",
    "   * True positives (when someone with the disease tests positive).  \n",
    "   * False positives (when someone without the disease tests positive)."
   ]
  },
  {
   "cell_type": "markdown",
   "id": "8",
   "metadata": {},
   "source": [
    "### Connecting to Our Example\n",
    "\n",
    "From our counting argument (with 10,000 people, 1% prevalence, and 99% sensitivity/specificity):\n",
    "\n",
    "1. $P(D) = 0.01$.\n",
    "2. $P(T^+ \\mid D) = 0.99$.\n",
    "3. $P(T^+)$ includes both the true-positive contribution $\\bigl(0.99 \\times 0.01\\bigr)$ and the false‐positive contribution $\\bigl(0.01 \\times 0.99\\bigr)$, because the test incorrectly flags 1% of the healthy group of 99%.\n",
    "   Adding these yields $0.0099 + 0.0099 = 0.0198$.\n",
    "\n",
    "Hence, by Bayes' Theorem:\n",
    "\\begin{align}\n",
    "P(D \\mid T^+) = \\frac{(0.99)\\times(0.01)}{0.0198} = \\frac{0.0099}{0.0198} = 0.50.\n",
    "\\end{align}\n",
    "We recover the same 50% figure from the simpler counting argument, yet now it is transparent how each term (prior, sensitivity, false positives) contributes."
   ]
  },
  {
   "cell_type": "markdown",
   "id": "9",
   "metadata": {},
   "source": [
    "### Why Bayes’ Theorem Matters\n",
    "\n",
    "The key power of Bayes' Theorem is that it forces us to incorporate the **prior probability** $P(D)$ before we look at new evidence $T^+$.\n",
    "Once the data (test results) come in, we use the likelihood $P(T^+ \\mid D)$ to update this prior, producing the **posterior probability** $P(D \\mid T^+)$.\n",
    "In the medical context, the \"update\" reveals how a single test result against a low prevalence might not be enough for a confident diagnosis."
   ]
  },
  {
   "cell_type": "markdown",
   "id": "10",
   "metadata": {},
   "source": [
    "### Broader Applications\n",
    "\n",
    "While the disease-testing example is a simple illustration, Bayes' Theorem underpins many advanced topics:\n",
    "- In **physics**, it helps estimate unknown parameters (like masses, cross sections, or damping coefficients) and automatically weighs in prior knowledge (like experimental constraints or theoretical bounds).\n",
    "- In **astronomy**, it deals with uncertain measurements of faint sources, updating beliefs about everything from exoplanet detections to cosmological parameters.\n",
    "- In **engineering**, it refines reliability or failure-rate assessments with new test data.\n",
    "\n",
    "The consistent theme is that **prior knowledge plus data** equals an updated understanding that neither alone can provide.\n",
    "This is the heart of Bayesian statistics.\n",
    "By seeing how a low base rate can overshadow test accuracy in medical examples, we avoid misinterpretations in a wide range of scientific and engineering problems, where ignoring prior information can lead to equally surprising results."
   ]
  }
 ],
 "metadata": {
  "kernelspec": {
   "display_name": "Python 3 (ipykernel)",
   "language": "python",
   "name": "python3"
  },
  "language_info": {
   "codemirror_mode": {
    "name": "ipython",
    "version": 3
   },
   "file_extension": ".py",
   "mimetype": "text/x-python",
   "name": "python",
   "nbconvert_exporter": "python",
   "pygments_lexer": "ipython3",
   "version": "3.12.6"
  }
 },
 "nbformat": 4,
 "nbformat_minor": 5
}
