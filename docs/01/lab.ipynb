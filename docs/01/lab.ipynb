{
 "cells": [
  {
   "cell_type": "markdown",
   "id": "0",
   "metadata": {},
   "source": [
    "# Git, Python, and Jupyter Notebooks"
   ]
  },
  {
   "cell_type": "markdown",
   "id": "1",
   "metadata": {},
   "source": [
    "## Obtain Lecture Notes and Labs\n",
    "\n",
    "Software development, including designing and implementing algorithms, in computational physics, is an interactive process.\n",
    "It requires constant writing and refractoring codes.\n",
    "Keeping good track of the different versions of software help us:\n",
    "* understand why software are implemented in certain ways;\n",
    "* identify when bugs are introduced; and\n",
    "* have multiple people collaborate on software projects.\n",
    "\n",
    "[`Git`](https://git-scm.com/) is a version control system originally developed by Linus Torvalds, who is also the creator and lead developer of Linux.\n",
    "\n",
    "[`GitHub`](https://github.com/) is software as a service (SaaS) platform to host `git` repositories online."
   ]
  },
  {
   "cell_type": "markdown",
   "id": "2",
   "metadata": {},
   "source": [
    "### Sign up for GitHub accounts\n",
    "\n",
    "Please sign up an account on GitHub: https://github.com/\n",
    "\n",
    "You will use it to submit your homework assignments and projects.\n",
    "\n",
    "Please add your username in this [Google Spreadsheet](https://docs.google.com/spreadsheets/d/15XDjkFgPSS-q2oaLjOSxSchomAg6umhz1l0xLCEXW3c/edit?usp=sharing)."
   ]
  },
  {
   "cell_type": "markdown",
   "id": "3",
   "metadata": {},
   "source": [
    "### Fork the Course Git Repository\n",
    "\n",
    "All the lecture notes and hands-on labs are version controlled in this `git` repository:\n",
    "\n",
    "https://github.com/ua-2025q1-phys305/ua-2025q1-phys305.github.io\n",
    "\n",
    "Please fork it to your own account.\n",
    "You may rename it to a shorter name, e.g., just `phys305`."
   ]
  },
  {
   "cell_type": "markdown",
   "id": "4",
   "metadata": {
    "slideshow": {
     "slide_type": "fragment"
    }
   },
   "source": [
    "### `GitHub` Codespace\n",
    "\n",
    "There are many ways to run the hands-on codes.\n",
    "The standard way is to clone the course `git` repository from `GitHub` to your own computer.\n",
    "However, this requires installing software, setting up a development environment, etc, and may delay our progress.\n",
    "\n",
    "Instead, we will start with `GitHub` Codespace for a uniform development envirnment."
   ]
  },
  {
   "cell_type": "markdown",
   "id": "5",
   "metadata": {},
   "source": [
    "Click the green \"Code\" button in your fork, select the \"Codespace\" Tab, and then click the green \"Create codespace on main\" button.\n",
    "\n",
    "![codespace](figures/codespace1.png)"
   ]
  },
  {
   "cell_type": "markdown",
   "id": "6",
   "metadata": {},
   "source": [
    "This would create a webapp version of Microsoft's VSCode.\n",
    "Navigate to `docs/01/labs.ipynb` in the \"EXPLORER\" on the left, you may now open this Lab notebook in VSCode.\n",
    "\n",
    "![codespace](figures/codespace2.png)"
   ]
  },
  {
   "cell_type": "code",
   "execution_count": null,
   "id": "7",
   "metadata": {},
   "outputs": [],
   "source": []
  }
 ],
 "metadata": {
  "kernelspec": {
   "display_name": "Python 3 (ipykernel)",
   "language": "python",
   "name": "python3"
  },
  "language_info": {
   "codemirror_mode": {
    "name": "ipython",
    "version": 3
   },
   "file_extension": ".py",
   "mimetype": "text/x-python",
   "name": "python",
   "nbconvert_exporter": "python",
   "pygments_lexer": "ipython3",
   "version": "3.12.6"
  }
 },
 "nbformat": 4,
 "nbformat_minor": 5
}
