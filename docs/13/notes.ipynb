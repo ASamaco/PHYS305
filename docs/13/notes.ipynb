{
 "cells": [
  {
   "cell_type": "markdown",
   "id": "0",
   "metadata": {},
   "source": [
    "# Selected Techniques in Machine Learning"
   ]
  },
  {
   "cell_type": "markdown",
   "id": "1",
   "metadata": {},
   "source": [
    "## Introduction\n",
    "\n",
    "### Why does Machine Learning (ML) matter in Computational Physics?\n",
    "* Large volumes of data are often generated from simulations and experiments in physics.\n",
    "* In astronomy, the Rubin Observatory (formerly LSST) will generate terabytes of data every single night, leading to petabytes over the duration of the survey.\n",
    "* Traditional analytical approaches might struggle with complex, high-dimensional data;\n",
    "  ML provides powerful tools to find patterns, classify transient events, estimate redshifts, and more.\n",
    "* ML has proven effective across many domains (image recognition, natural language processing, etc.), and these techniques can be adapted to solve challenging physics and astronomy problems."
   ]
  },
  {
   "cell_type": "markdown",
   "id": "2",
   "metadata": {},
   "source": [
    "## Machine Learning Taxonomy\n",
    "\n",
    "### Supervised Learning\n",
    "* **Definition:**\n",
    "  * In supervised learning, we have labeled data:\n",
    "    each data point $x$ has an associated label $y$ (e.g., a category in classification, a numeric value in regression).\n",
    "* **Common Tasks:**\n",
    "  * **Classification:** Predict discrete labels (e.g., whether an event is a supernova or a variable star).\n",
    "  * **Regression:** Predict continuous values (e.g., estimating photometric redshifts for galaxies).\n",
    "* **Examples in Physics & Astronomy (Rubin/LSST):**\n",
    "  * **Galaxy Classification:** Labeling galaxies as spiral, elliptical, irregular, etc. using images.\n",
    "  * **Transient Detection:** Classifying new light*curve data to determine the type of transient event.\n",
    "  * **Redshift Estimation:** Regressing a redshift value from photometric measurements."
   ]
  },
  {
   "cell_type": "markdown",
   "id": "3",
   "metadata": {},
   "source": [
    "### Unsupervised Learning\n",
    "* **Definition:**\n",
    "  * In unsupervised learning, we only have unlabeled data.\n",
    "    The goal is to discover hidden patterns or structures in the data without predefined labels.\n",
    "* **Common Tasks:**\n",
    "  * **Clustering:** Grouping similar data points together (e.g., finding different galaxy populations).\n",
    "  * **Dimensionality Reduction:** Reducing the number of variables while retaining essential information (e.g., using PCA to compress wide*field survey data).\n",
    "* **Examples in Physics & Astronomy (Rubin/LSST):**\n",
    "  * **Event Grouping:** Automatically grouping observed transients based on their light*curve shapes without prior labeling.\n",
    "  * **Feature Extraction:** Identifying the principal components of large*scale survey images to highlight underlying structures or key features in the data."
   ]
  },
  {
   "cell_type": "markdown",
   "id": "4",
   "metadata": {},
   "source": [
    "### Reinforcement Learning\n",
    "* **Definition:**\n",
    "  * An agent interacts with an environment, making decisions based on a reward or penalty signal.\n",
    "    The goal is to learn a strategy (policy) that maximizes long*term reward.\n",
    "* **High-Level Idea and Relevance:**\n",
    "  * While less common in astronomy data processing, reinforcement learning can be useful for **telescope scheduling** (optimally deciding where to point the telescope to maximize scientific returns) or **adaptive optics** (adjusting system parameters in real time)."
   ]
  }
 ],
 "metadata": {
  "kernelspec": {
   "display_name": "Python 3 (ipykernel)",
   "language": "python",
   "name": "python3"
  },
  "language_info": {
   "codemirror_mode": {
    "name": "ipython",
    "version": 3
   },
   "file_extension": ".py",
   "mimetype": "text/x-python",
   "name": "python",
   "nbconvert_exporter": "python",
   "pygments_lexer": "ipython3",
   "version": "3.12.6"
  }
 },
 "nbformat": 4,
 "nbformat_minor": 5
}
