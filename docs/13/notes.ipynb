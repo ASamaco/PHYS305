{
 "cells": [
  {
   "cell_type": "markdown",
   "id": "0",
   "metadata": {},
   "source": [
    "# Selected Techniques in Machine Learning"
   ]
  },
  {
   "cell_type": "markdown",
   "id": "1",
   "metadata": {},
   "source": [
    "## Introduction\n",
    "\n",
    "### Why does Machine Learning (ML) matter in Computational Physics?\n",
    "* Large volumes of data are often generated from simulations and experiments in physics.\n",
    "* In astronomy, the Rubin Observatory (formerly LSST) will generate terabytes of data every single night, leading to petabytes over the duration of the survey.\n",
    "* Traditional analytical approaches might struggle with complex, high-dimensional data;\n",
    "  ML provides powerful tools to find patterns, classify transient events, estimate redshifts, and more.\n",
    "* ML has proven effective across many domains (image recognition, natural language processing, etc.), and these techniques can be adapted to solve challenging physics and astronomy problems."
   ]
  }
 ],
 "metadata": {
  "kernelspec": {
   "display_name": "Python 3 (ipykernel)",
   "language": "python",
   "name": "python3"
  },
  "language_info": {
   "codemirror_mode": {
    "name": "ipython",
    "version": 3
   },
   "file_extension": ".py",
   "mimetype": "text/x-python",
   "name": "python",
   "nbconvert_exporter": "python",
   "pygments_lexer": "ipython3",
   "version": "3.12.6"
  }
 },
 "nbformat": 4,
 "nbformat_minor": 5
}
