{
 "cells": [
  {
   "cell_type": "markdown",
   "id": "0",
   "metadata": {},
   "source": [
    "# Projectile Motion Lab"
   ]
  },
  {
   "cell_type": "markdown",
   "id": "1",
   "metadata": {},
   "source": [
    "In elementary physics courses, one often sees the projectile motion problem without air resistance, for which the solution is fully analytic and straightforward:\n",
    "* The maximum range occurs at a $45^\\circ$ launch angle,\n",
    "* The horizontal range is given by the well-known formula $R = (v_0^2/g) \\sin(2\\alpha)$.\n",
    "\n",
    "However, if we include **air resistance**, the situation becomes more complicated.\n",
    "\n",
    "This lab shows:\n",
    "1. No Air Resistance: Simple closed-form solution and a quick check via **gradient descent**.\n",
    "2. Linear Air Resistance: An analytic solution for $x(t)$ and $y(t)$ is still possible, although the time-of-flight can only be solved implicitly (involving a transcendental equation).\n",
    "   We can still implement a **gradient descent** on the angle $\\alpha$, using these closed-form expressions plus a (small) numerical step to find the time of flight."
   ]
  }
 ],
 "metadata": {
  "kernelspec": {
   "display_name": "Python 3 (ipykernel)",
   "language": "python",
   "name": "python3"
  },
  "language_info": {
   "codemirror_mode": {
    "name": "ipython",
    "version": 3
   },
   "file_extension": ".py",
   "mimetype": "text/x-python",
   "name": "python",
   "nbconvert_exporter": "python",
   "pygments_lexer": "ipython3",
   "version": "3.12.6"
  }
 },
 "nbformat": 4,
 "nbformat_minor": 5
}
