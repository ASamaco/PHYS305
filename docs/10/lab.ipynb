{
 "cells": [
  {
   "cell_type": "markdown",
   "id": "0",
   "metadata": {},
   "source": [
    "# Projectile Motion Lab"
   ]
  },
  {
   "cell_type": "markdown",
   "id": "1",
   "metadata": {},
   "source": [
    "In elementary physics courses, one often sees the projectile motion problem without air resistance, for which the solution is fully analytic and straightforward:\n",
    "* The maximum range occurs at a $45^\\circ$ launch angle,\n",
    "* The horizontal range is given by the well-known formula $R = (v_0^2/g) \\sin(2\\theta)$.\n",
    "\n",
    "However, if we include **air resistance**, the situation becomes more complicated.\n",
    "\n",
    "This lab shows:\n",
    "1. No Air Resistance: Simple closed-form solution and a quick check via **gradient descent**.\n",
    "2. Linear Air Resistance: An analytic solution for $x(t)$ and $y(t)$ is still possible, although the time-of-flight can only be solved implicitly (involving a transcendental equation).\n",
    "   We can still implement a **gradient descent** on the angle $\\alpha$, using these closed-form expressions plus a (small) numerical step to find the time of flight."
   ]
  },
  {
   "cell_type": "markdown",
   "id": "2",
   "metadata": {},
   "source": [
    "## Gradient Descent for Maximum Range (No Air Resistance)\n",
    "\n",
    "In the absence of air resistance, we expect the optimal launch angle to be $45^\\circ$.\n",
    "Let's use gradient descent to confirm this numerically."
   ]
  },
  {
   "cell_type": "markdown",
   "id": "3",
   "metadata": {},
   "source": [
    "### Task 1: Implement the Range Function\n",
    "\n",
    "The horizontal range of a projectile launched at an angle $\\theta$ is:\n",
    "\\begin{align}\n",
    "R(\\theta) = \\frac{v_0^2}{g} \\sin(2\\theta).\n",
    "\\end{align}\n",
    "Define a Python function `proj_range(theta, v0, g)` that computes $R(\\theta)$."
   ]
  },
  {
   "cell_type": "code",
   "execution_count": null,
   "id": "4",
   "metadata": {},
   "outputs": [],
   "source": [
    "# HANDSON: Implement the range equation\n",
    "\n",
    "from jax import numpy as np\n",
    "\n",
    "def proj_range(theta, v0, g):\n",
    "    pass"
   ]
  },
  {
   "cell_type": "code",
   "execution_count": null,
   "id": "5",
   "metadata": {},
   "outputs": [],
   "source": [
    "# HANDSON: Copy autodg_hist()\n",
    "\n",
    "from jax import grad\n",
    "\n",
    "def autogd_hist(f, x, alpha, imax=1000):\n",
    "    pass"
   ]
  },
  {
   "cell_type": "code",
   "execution_count": null,
   "id": "6",
   "metadata": {},
   "outputs": [],
   "source": [
    "import matplotlib.pyplot as plt\n",
    "\n",
    "# Parameters\n",
    "v0 = 10    # Initial velocity (m/s)\n",
    "g  = 9.81  # Gravity (m/s^2)\n",
    "\n",
    "# Gradient Descent Optimization\n",
    "theta = np.radians(30)  # Initial guess (in radians)\n",
    "alpha = 0.01            # Learning rate\n",
    "\n",
    "# HANSON: Define a loss function L(theta) based on proj_range but depends only on theta\n",
    "pass\n",
    "\n",
    "# HANSON: Use autograd_hist() to obtain the history of Theta\n",
    "pass"
   ]
  },
  {
   "cell_type": "code",
   "execution_count": null,
   "id": "7",
   "metadata": {},
   "outputs": [],
   "source": [
    "# Convert results to degrees\n",
    "Theta = np.degrees(np.array(Theta))\n",
    "\n",
    "# Print result\n",
    "print(f\"Optimized launch angle (degrees): {Theta[-1]}\")"
   ]
  },
  {
   "cell_type": "code",
   "execution_count": null,
   "id": "8",
   "metadata": {},
   "outputs": [],
   "source": [
    "# Plot results\n",
    "\n",
    "plt.plot(range(len(Theta)), Theta, '-o')\n",
    "plt.title('Optimization of Launch Angle (No Air Resistance)')\n",
    "plt.xlabel('Iteration')\n",
    "plt.ylabel('Launch Angle (degrees)')"
   ]
  }
 ],
 "metadata": {
  "kernelspec": {
   "display_name": "Python 3 (ipykernel)",
   "language": "python",
   "name": "python3"
  },
  "language_info": {
   "codemirror_mode": {
    "name": "ipython",
    "version": 3
   },
   "file_extension": ".py",
   "mimetype": "text/x-python",
   "name": "python",
   "nbconvert_exporter": "python",
   "pygments_lexer": "ipython3",
   "version": "3.12.6"
  }
 },
 "nbformat": 4,
 "nbformat_minor": 5
}
