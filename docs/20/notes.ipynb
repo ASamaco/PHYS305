{
 "cells": [
  {
   "cell_type": "markdown",
   "id": "0",
   "metadata": {},
   "source": [
    "# Monte Carlo Methods III: Parameter Estimation and Markov Chain"
   ]
  },
  {
   "cell_type": "markdown",
   "id": "1",
   "metadata": {},
   "source": [
    "This hands-on is based on [Gravitational Wave Open Data Workshop 2024](https://github.com/gw-odw/odw-2024/)."
   ]
  },
  {
   "cell_type": "markdown",
   "id": "2",
   "metadata": {},
   "source": [
    "## Introduction\n",
    "\n",
    "Gravitational waves are ripples in spacetime predicted by Albert Einstein's General Theory of Relativity.\n",
    "These waves propagate outward from sources such as merging black holes, neutron star collisions, or rapidly rotating neutron stars.\n",
    "The first direct detection of gravitational waves, GW150914, was observed by the LIGO detectors in 2015, opening a new window into observing astrophysical phenomena previously inaccessible by electromagnetic observations alone.\n",
    "\n",
    "Detecting and analyzing gravitational waves allows astronomers and physicists to study objects and phenomena that emit very little or no light, providing valuable insights into the behavior of gravity in extreme environments and the properties of dense objects like black holes and neutron stars.\n",
    "\n",
    "In this hands-pon, we introduce Bayesian inference methods essential for estimating the parameters of gravitational wave signals detected by instruments such as LIGO and Virgo.\n",
    "Specifically, we'll demonstrate parameter estimation using Monte Carlo Markov Chain."
   ]
  }
 ],
 "metadata": {
  "kernelspec": {
   "display_name": "Python 3 (ipykernel)",
   "language": "python",
   "name": "python3"
  },
  "language_info": {
   "codemirror_mode": {
    "name": "ipython",
    "version": 3
   },
   "file_extension": ".py",
   "mimetype": "text/x-python",
   "name": "python",
   "nbconvert_exporter": "python",
   "pygments_lexer": "ipython3",
   "version": "3.12.9"
  }
 },
 "nbformat": 4,
 "nbformat_minor": 5
}
