{
 "cells": [
  {
   "cell_type": "markdown",
   "id": "0",
   "metadata": {},
   "source": [
    "# Monte Carlo Methods III: Parameter Estimation and Markov Chain"
   ]
  },
  {
   "cell_type": "markdown",
   "id": "1",
   "metadata": {},
   "source": [
    "This hands-on is based on [Gravitational Wave Open Data Workshop 2024](https://github.com/gw-odw/odw-2024/)."
   ]
  },
  {
   "cell_type": "markdown",
   "id": "2",
   "metadata": {},
   "source": [
    "## Introduction\n",
    "\n",
    "Gravitational waves are ripples in spacetime predicted by Albert Einstein's General Theory of Relativity.\n",
    "These waves propagate outward from sources such as merging black holes, neutron star collisions, or rapidly rotating neutron stars.\n",
    "The first direct detection of gravitational waves, GW150914, was observed by the LIGO detectors in 2015, opening a new window into observing astrophysical phenomena previously inaccessible by electromagnetic observations alone.\n",
    "\n",
    "Detecting and analyzing gravitational waves allows astronomers and physicists to study objects and phenomena that emit very little or no light, providing valuable insights into the behavior of gravity in extreme environments and the properties of dense objects like black holes and neutron stars.\n",
    "\n",
    "In this hands-pon, we introduce Bayesian inference methods essential for estimating the parameters of gravitational wave signals detected by instruments such as LIGO and Virgo.\n",
    "Specifically, we'll demonstrate parameter estimation using Monte Carlo Markov Chain."
   ]
  },
  {
   "cell_type": "markdown",
   "id": "3",
   "metadata": {},
   "source": [
    "## Bayesian Inference: A Brief Overview\n",
    "\n",
    "Recalling that Bayesian inference allows us to update our knowledge of model parameters based on observed data.\n",
    "Bayes' theorem mathematically represents this process:\n",
    "\\begin{align}\n",
    "  p(\\theta|d,M) = \\frac{\\mathcal{L}(d|\\theta,M) \\pi(\\theta|M)}{\\mathcal{Z}(d|M)}\n",
    "\\end{align}\n",
    "where:\n",
    "* $p(\\theta|d, M)$ is the posterior distribution.\n",
    "* $\\mathcal{L}(d|\\theta, M)$ is the likelihood function, measuring agreement between model predictions and observed data.\n",
    "* $\\pi(\\theta|M)$ is the prior distribution, representing previous knowledge.\n",
    "* $\\mathcal{Z}(d|M)$ is the evidence, normalizing the posterior.\n",
    "\n",
    "Typically, the posterior cannot be computed analytically, requiring computational approximations.\n",
    "Stochastic (Monte Carlo) sampling is a common method for this purpose."
   ]
  },
  {
   "cell_type": "markdown",
   "id": "4",
   "metadata": {},
   "source": [
    "## Toy Model\n",
    "\n",
    "We download sample observational data (`toy_model.csv`) containing simulated time-series observations:"
   ]
  },
  {
   "cell_type": "code",
   "execution_count": null,
   "id": "5",
   "metadata": {},
   "outputs": [],
   "source": [
    "import os\n",
    "if not os.path.isfile(\"toy_model.csv\"):\n",
    "    print(\"Downloading toy_model.csv\")\n",
    "    ! wget https://raw.githubusercontent.com/gw-odw/odw-2024/main/Tutorials/Day_3/toy_model.csv\n",
    "else:\n",
    "    print(\"toy_model.csv exists; not downloading\")"
   ]
  },
  {
   "cell_type": "markdown",
   "id": "6",
   "metadata": {},
   "source": [
    "Our example data (`toy_model.csv`) contains measurements (`yobs`) recorded at specific times (`time`).\n",
    "Let's visualize these observations:"
   ]
  },
  {
   "cell_type": "code",
   "execution_count": null,
   "id": "7",
   "metadata": {},
   "outputs": [],
   "source": [
    "import numpy as np\n",
    "\n",
    "time, yobs = np.genfromtxt(\"toy_model.csv\", delimiter=\",\").T"
   ]
  },
  {
   "cell_type": "code",
   "execution_count": null,
   "id": "8",
   "metadata": {},
   "outputs": [],
   "source": [
    "from matplotlib import pyplot as plt\n",
    "\n",
    "plt.plot(time, yobs)\n",
    "plt.xlabel(\"Time [s]\")\n",
    "plt.ylabel(\"Observed values\")\n",
    "plt.title(\"Simulated Observational Data\")"
   ]
  },
  {
   "cell_type": "markdown",
   "id": "9",
   "metadata": {},
   "source": [
    "We propose the following sine-Gaussian model to explain the data:\n",
    "\\begin{align}\n",
    "  s(t; f,\\alpha) = e^{-(t/\\alpha)^2} \\sin(2\\pi f t),\n",
    "\\end{align}\n",
    "with frequency parameter $f$ and damping parameter $\\alpha$.\n",
    "To build intuition, we visualize this model for representative parameters:"
   ]
  },
  {
   "cell_type": "code",
   "execution_count": null,
   "id": "10",
   "metadata": {},
   "outputs": [],
   "source": [
    "def sinusoid(time, freq):\n",
    "    return np.sin(2 * np.pi * freq * time)\n",
    "\n",
    "def gaussian_exponential(time, alpha):\n",
    "    return np.exp(-(time/alpha)**2)\n",
    "\n",
    "def model_Ms(time, freq, alpha):\n",
    "    return gaussian_exponential(time, alpha) * sinusoid(time, freq)"
   ]
  },
  {
   "cell_type": "code",
   "execution_count": null,
   "id": "11",
   "metadata": {},
   "outputs": [],
   "source": [
    "freq, alpha = 2, 0.5\n",
    "\n",
    "plt.plot(time, sinusoid(time, freq), label=\"Sinusoid\")\n",
    "plt.plot(time, gaussian_exponential(time, alpha), label=\"Gaussian envelope\")\n",
    "plt.plot(time, model_Ms(time, freq, alpha), label=\"Sine-Gaussian\")\n",
    "plt.xlabel(\"Time [s]\")\n",
    "plt.ylabel(\"Model components\")\n",
    "plt.legend()"
   ]
  }
 ],
 "metadata": {
  "kernelspec": {
   "display_name": "Python 3 (ipykernel)",
   "language": "python",
   "name": "python3"
  },
  "language_info": {
   "codemirror_mode": {
    "name": "ipython",
    "version": 3
   },
   "file_extension": ".py",
   "mimetype": "text/x-python",
   "name": "python",
   "nbconvert_exporter": "python",
   "pygments_lexer": "ipython3",
   "version": "3.12.9"
  }
 },
 "nbformat": 4,
 "nbformat_minor": 5
}
